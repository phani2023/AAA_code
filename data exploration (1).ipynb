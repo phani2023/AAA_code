{
 "cells": [
  {
   "cell_type": "code",
   "execution_count": 1,
   "id": "90fed406",
   "metadata": {},
   "outputs": [
    {
     "name": "stdout",
     "output_type": "stream",
     "text": [
      "Requirement already satisfied: pyodbc in c:\\users\\vanagam\\appdata\\local\\anaconda3\\lib\\site-packages (4.0.34)\n",
      "Note: you may need to restart the kernel to use updated packages.\n"
     ]
    }
   ],
   "source": [
    "pip install pyodbc"
   ]
  },
  {
   "cell_type": "code",
   "execution_count": 2,
   "id": "4d4037d4",
   "metadata": {},
   "outputs": [
    {
     "name": "stderr",
     "output_type": "stream",
     "text": [
      "C:\\Users\\vanagam\\AppData\\Local\\Temp\\ipykernel_13896\\3390275304.py:12: UserWarning: pandas only supports SQLAlchemy connectable (engine/connection) or database string URI or sqlite3 DBAPI2 connection. Other DBAPI2 objects are not tested. Please consider using SQLAlchemy.\n",
      "  df2 = pd.read_sql_query('SELECT * FROM AAA_Data',conn)\n"
     ]
    }
   ],
   "source": [
    "import pyodbc\n",
    "import pandas as pd\n",
    "\n",
    "DB = {'servername': 'stwssbsql02',\n",
    "\n",
    "      'database': 'C23_AAA1'}\n",
    "\n",
    "# create the connection\n",
    "\n",
    "conn = pyodbc.connect('DRIVER={SQL Server};SERVER=' + DB['servername'] + ';DATABASE=' + DB['database'] + ';Trusted_Connection=yes')\n",
    "\n",
    "df2 = pd.read_sql_query('SELECT * FROM AAA_Data',conn)"
   ]
  },
  {
   "cell_type": "code",
   "execution_count": 3,
   "id": "e612940b",
   "metadata": {},
   "outputs": [
    {
     "data": {
      "text/html": [
       "<div>\n",
       "<style scoped>\n",
       "    .dataframe tbody tr th:only-of-type {\n",
       "        vertical-align: middle;\n",
       "    }\n",
       "\n",
       "    .dataframe tbody tr th {\n",
       "        vertical-align: top;\n",
       "    }\n",
       "\n",
       "    .dataframe thead th {\n",
       "        text-align: right;\n",
       "    }\n",
       "</style>\n",
       "<table border=\"1\" class=\"dataframe\">\n",
       "  <thead>\n",
       "    <tr style=\"text-align: right;\">\n",
       "      <th></th>\n",
       "      <th>match_key</th>\n",
       "      <th>state</th>\n",
       "      <th>mail_date</th>\n",
       "      <th>payment_dt</th>\n",
       "      <th>zip_code</th>\n",
       "      <th>hui</th>\n",
       "      <th>ui</th>\n",
       "      <th>joined</th>\n",
       "      <th>age_in_years_drv_numeric</th>\n",
       "      <th>length_of_residence_1</th>\n",
       "      <th>...</th>\n",
       "      <th>CENSUS_MEDIAN_DWELLING_AGE</th>\n",
       "      <th>CENSUS_PCT_25PLUS_WITH_DEGREE</th>\n",
       "      <th>CENSUS_PCT_DU_OWNER_OCCUPIED</th>\n",
       "      <th>CENSUS_PCT_DU_RENTER_OCCUPIED</th>\n",
       "      <th>CENSUS_PCT_HH_MARRIED_COUPLES</th>\n",
       "      <th>CENSUS_PCT_POP_AGE_18PLUS</th>\n",
       "      <th>CENSUS_PCT_POP_AGE_65PLUS</th>\n",
       "      <th>CENSUS_PCT_POP_AGE_UNDER_18</th>\n",
       "      <th>CENSUS_UNITS_IN_STRUT_MOB_HOME</th>\n",
       "      <th>CENSUS_INCOME_INDEX</th>\n",
       "    </tr>\n",
       "  </thead>\n",
       "  <tbody>\n",
       "    <tr>\n",
       "      <th>0</th>\n",
       "      <td>AABB2101NE204THST33179</td>\n",
       "      <td>FL</td>\n",
       "      <td>2022-02-04</td>\n",
       "      <td>NaT</td>\n",
       "      <td>33179.0</td>\n",
       "      <td>NaN</td>\n",
       "      <td>NaN</td>\n",
       "      <td>0.0</td>\n",
       "      <td>72.0</td>\n",
       "      <td>35.0</td>\n",
       "      <td>...</td>\n",
       "      <td>48.0</td>\n",
       "      <td>24.0</td>\n",
       "      <td>87.3</td>\n",
       "      <td>12.7</td>\n",
       "      <td>71.9</td>\n",
       "      <td>79.7</td>\n",
       "      <td>20.0</td>\n",
       "      <td>20.3</td>\n",
       "      <td>0.2</td>\n",
       "      <td>178.0</td>\n",
       "    </tr>\n",
       "    <tr>\n",
       "      <th>1</th>\n",
       "      <td>AABE1335WAREAGLEBLVD32796</td>\n",
       "      <td>FL</td>\n",
       "      <td>2022-02-04</td>\n",
       "      <td>NaT</td>\n",
       "      <td>32796.0</td>\n",
       "      <td>NaN</td>\n",
       "      <td>NaN</td>\n",
       "      <td>0.0</td>\n",
       "      <td>76.0</td>\n",
       "      <td>30.0</td>\n",
       "      <td>...</td>\n",
       "      <td>52.0</td>\n",
       "      <td>4.6</td>\n",
       "      <td>83.8</td>\n",
       "      <td>16.2</td>\n",
       "      <td>51.0</td>\n",
       "      <td>81.5</td>\n",
       "      <td>23.1</td>\n",
       "      <td>18.5</td>\n",
       "      <td>0.8</td>\n",
       "      <td>82.0</td>\n",
       "    </tr>\n",
       "    <tr>\n",
       "      <th>2</th>\n",
       "      <td>AABE13828PATTERSONDR48315</td>\n",
       "      <td>MI</td>\n",
       "      <td>2022-07-01</td>\n",
       "      <td>NaT</td>\n",
       "      <td>48315.0</td>\n",
       "      <td>NaN</td>\n",
       "      <td>NaN</td>\n",
       "      <td>0.0</td>\n",
       "      <td>60.0</td>\n",
       "      <td>1.0</td>\n",
       "      <td>...</td>\n",
       "      <td>23.0</td>\n",
       "      <td>18.5</td>\n",
       "      <td>98.8</td>\n",
       "      <td>1.2</td>\n",
       "      <td>79.9</td>\n",
       "      <td>76.1</td>\n",
       "      <td>13.5</td>\n",
       "      <td>23.9</td>\n",
       "      <td>0.0</td>\n",
       "      <td>190.0</td>\n",
       "    </tr>\n",
       "    <tr>\n",
       "      <th>3</th>\n",
       "      <td>AABE178HIGHLANDDR34788</td>\n",
       "      <td>FL</td>\n",
       "      <td>2022-02-04</td>\n",
       "      <td>2022-11-23</td>\n",
       "      <td>34788.0</td>\n",
       "      <td>3.014185e+09</td>\n",
       "      <td>3.014185e+09</td>\n",
       "      <td>0.0</td>\n",
       "      <td>75.0</td>\n",
       "      <td>2.0</td>\n",
       "      <td>...</td>\n",
       "      <td>35.0</td>\n",
       "      <td>5.7</td>\n",
       "      <td>89.1</td>\n",
       "      <td>10.9</td>\n",
       "      <td>46.6</td>\n",
       "      <td>97.9</td>\n",
       "      <td>62.1</td>\n",
       "      <td>2.1</td>\n",
       "      <td>82.8</td>\n",
       "      <td>69.0</td>\n",
       "    </tr>\n",
       "    <tr>\n",
       "      <th>4</th>\n",
       "      <td>AABE2015PINERANCHDR32566</td>\n",
       "      <td>FL</td>\n",
       "      <td>2022-03-04</td>\n",
       "      <td>NaT</td>\n",
       "      <td>32566.0</td>\n",
       "      <td>NaN</td>\n",
       "      <td>NaN</td>\n",
       "      <td>0.0</td>\n",
       "      <td>59.0</td>\n",
       "      <td>27.0</td>\n",
       "      <td>...</td>\n",
       "      <td>25.0</td>\n",
       "      <td>9.4</td>\n",
       "      <td>73.3</td>\n",
       "      <td>26.7</td>\n",
       "      <td>65.7</td>\n",
       "      <td>78.4</td>\n",
       "      <td>13.3</td>\n",
       "      <td>21.6</td>\n",
       "      <td>15.8</td>\n",
       "      <td>123.0</td>\n",
       "    </tr>\n",
       "  </tbody>\n",
       "</table>\n",
       "<p>5 rows × 54 columns</p>\n",
       "</div>"
      ],
      "text/plain": [
       "                        match_key state  mail_date payment_dt  zip_code  \\\n",
       "0  AABB2101NE204THST33179            FL 2022-02-04        NaT   33179.0   \n",
       "1  AABE1335WAREAGLEBLVD32796         FL 2022-02-04        NaT   32796.0   \n",
       "2  AABE13828PATTERSONDR48315         MI 2022-07-01        NaT   48315.0   \n",
       "3  AABE178HIGHLANDDR34788            FL 2022-02-04 2022-11-23   34788.0   \n",
       "4  AABE2015PINERANCHDR32566          FL 2022-03-04        NaT   32566.0   \n",
       "\n",
       "            hui            ui  joined  age_in_years_drv_numeric  \\\n",
       "0           NaN           NaN     0.0                      72.0   \n",
       "1           NaN           NaN     0.0                      76.0   \n",
       "2           NaN           NaN     0.0                      60.0   \n",
       "3  3.014185e+09  3.014185e+09     0.0                      75.0   \n",
       "4           NaN           NaN     0.0                      59.0   \n",
       "\n",
       "   length_of_residence_1  ...  CENSUS_MEDIAN_DWELLING_AGE  \\\n",
       "0                   35.0  ...                        48.0   \n",
       "1                   30.0  ...                        52.0   \n",
       "2                    1.0  ...                        23.0   \n",
       "3                    2.0  ...                        35.0   \n",
       "4                   27.0  ...                        25.0   \n",
       "\n",
       "   CENSUS_PCT_25PLUS_WITH_DEGREE  CENSUS_PCT_DU_OWNER_OCCUPIED  \\\n",
       "0                           24.0                          87.3   \n",
       "1                            4.6                          83.8   \n",
       "2                           18.5                          98.8   \n",
       "3                            5.7                          89.1   \n",
       "4                            9.4                          73.3   \n",
       "\n",
       "   CENSUS_PCT_DU_RENTER_OCCUPIED  CENSUS_PCT_HH_MARRIED_COUPLES  \\\n",
       "0                           12.7                           71.9   \n",
       "1                           16.2                           51.0   \n",
       "2                            1.2                           79.9   \n",
       "3                           10.9                           46.6   \n",
       "4                           26.7                           65.7   \n",
       "\n",
       "   CENSUS_PCT_POP_AGE_18PLUS  CENSUS_PCT_POP_AGE_65PLUS  \\\n",
       "0                       79.7                       20.0   \n",
       "1                       81.5                       23.1   \n",
       "2                       76.1                       13.5   \n",
       "3                       97.9                       62.1   \n",
       "4                       78.4                       13.3   \n",
       "\n",
       "   CENSUS_PCT_POP_AGE_UNDER_18  CENSUS_UNITS_IN_STRUT_MOB_HOME  \\\n",
       "0                         20.3                             0.2   \n",
       "1                         18.5                             0.8   \n",
       "2                         23.9                             0.0   \n",
       "3                          2.1                            82.8   \n",
       "4                         21.6                            15.8   \n",
       "\n",
       "   CENSUS_INCOME_INDEX  \n",
       "0                178.0  \n",
       "1                 82.0  \n",
       "2                190.0  \n",
       "3                 69.0  \n",
       "4                123.0  \n",
       "\n",
       "[5 rows x 54 columns]"
      ]
     },
     "execution_count": 3,
     "metadata": {},
     "output_type": "execute_result"
    }
   ],
   "source": [
    "df2.head(5)"
   ]
  },
  {
   "cell_type": "code",
   "execution_count": 5,
   "id": "773bb603",
   "metadata": {},
   "outputs": [
    {
     "data": {
      "text/html": [
       "<div>\n",
       "<style scoped>\n",
       "    .dataframe tbody tr th:only-of-type {\n",
       "        vertical-align: middle;\n",
       "    }\n",
       "\n",
       "    .dataframe tbody tr th {\n",
       "        vertical-align: top;\n",
       "    }\n",
       "\n",
       "    .dataframe thead th {\n",
       "        text-align: right;\n",
       "    }\n",
       "</style>\n",
       "<table border=\"1\" class=\"dataframe\">\n",
       "  <thead>\n",
       "    <tr style=\"text-align: right;\">\n",
       "      <th></th>\n",
       "      <th>match_key</th>\n",
       "      <th>state</th>\n",
       "      <th>mail_date</th>\n",
       "      <th>payment_dt</th>\n",
       "      <th>zip_code</th>\n",
       "      <th>hui</th>\n",
       "      <th>ui</th>\n",
       "      <th>joined</th>\n",
       "      <th>age_in_years_drv_numeric</th>\n",
       "      <th>length_of_residence_1</th>\n",
       "      <th>...</th>\n",
       "      <th>CENSUS_MEDIAN_DWELLING_AGE</th>\n",
       "      <th>CENSUS_PCT_25PLUS_WITH_DEGREE</th>\n",
       "      <th>CENSUS_PCT_DU_OWNER_OCCUPIED</th>\n",
       "      <th>CENSUS_PCT_DU_RENTER_OCCUPIED</th>\n",
       "      <th>CENSUS_PCT_HH_MARRIED_COUPLES</th>\n",
       "      <th>CENSUS_PCT_POP_AGE_18PLUS</th>\n",
       "      <th>CENSUS_PCT_POP_AGE_65PLUS</th>\n",
       "      <th>CENSUS_PCT_POP_AGE_UNDER_18</th>\n",
       "      <th>CENSUS_UNITS_IN_STRUT_MOB_HOME</th>\n",
       "      <th>CENSUS_INCOME_INDEX</th>\n",
       "    </tr>\n",
       "  </thead>\n",
       "  <tbody>\n",
       "    <tr>\n",
       "      <th>0</th>\n",
       "      <td>AABB2101NE204THST33179</td>\n",
       "      <td>FL</td>\n",
       "      <td>2022-02-04</td>\n",
       "      <td>NaT</td>\n",
       "      <td>33179.0</td>\n",
       "      <td>NaN</td>\n",
       "      <td>NaN</td>\n",
       "      <td>0.0</td>\n",
       "      <td>72.0</td>\n",
       "      <td>35.0</td>\n",
       "      <td>...</td>\n",
       "      <td>48.0</td>\n",
       "      <td>24.0</td>\n",
       "      <td>87.3</td>\n",
       "      <td>12.7</td>\n",
       "      <td>71.9</td>\n",
       "      <td>79.7</td>\n",
       "      <td>20.0</td>\n",
       "      <td>20.3</td>\n",
       "      <td>0.2</td>\n",
       "      <td>178.0</td>\n",
       "    </tr>\n",
       "    <tr>\n",
       "      <th>1</th>\n",
       "      <td>AABE1335WAREAGLEBLVD32796</td>\n",
       "      <td>FL</td>\n",
       "      <td>2022-02-04</td>\n",
       "      <td>NaT</td>\n",
       "      <td>32796.0</td>\n",
       "      <td>NaN</td>\n",
       "      <td>NaN</td>\n",
       "      <td>0.0</td>\n",
       "      <td>76.0</td>\n",
       "      <td>30.0</td>\n",
       "      <td>...</td>\n",
       "      <td>52.0</td>\n",
       "      <td>4.6</td>\n",
       "      <td>83.8</td>\n",
       "      <td>16.2</td>\n",
       "      <td>51.0</td>\n",
       "      <td>81.5</td>\n",
       "      <td>23.1</td>\n",
       "      <td>18.5</td>\n",
       "      <td>0.8</td>\n",
       "      <td>82.0</td>\n",
       "    </tr>\n",
       "  </tbody>\n",
       "</table>\n",
       "<p>2 rows × 54 columns</p>\n",
       "</div>"
      ],
      "text/plain": [
       "                        match_key state  mail_date payment_dt  zip_code  hui  \\\n",
       "0  AABB2101NE204THST33179            FL 2022-02-04        NaT   33179.0  NaN   \n",
       "1  AABE1335WAREAGLEBLVD32796         FL 2022-02-04        NaT   32796.0  NaN   \n",
       "\n",
       "   ui  joined  age_in_years_drv_numeric  length_of_residence_1  ...  \\\n",
       "0 NaN     0.0                      72.0                   35.0  ...   \n",
       "1 NaN     0.0                      76.0                   30.0  ...   \n",
       "\n",
       "   CENSUS_MEDIAN_DWELLING_AGE  CENSUS_PCT_25PLUS_WITH_DEGREE  \\\n",
       "0                        48.0                           24.0   \n",
       "1                        52.0                            4.6   \n",
       "\n",
       "   CENSUS_PCT_DU_OWNER_OCCUPIED  CENSUS_PCT_DU_RENTER_OCCUPIED  \\\n",
       "0                          87.3                           12.7   \n",
       "1                          83.8                           16.2   \n",
       "\n",
       "   CENSUS_PCT_HH_MARRIED_COUPLES  CENSUS_PCT_POP_AGE_18PLUS  \\\n",
       "0                           71.9                       79.7   \n",
       "1                           51.0                       81.5   \n",
       "\n",
       "   CENSUS_PCT_POP_AGE_65PLUS  CENSUS_PCT_POP_AGE_UNDER_18  \\\n",
       "0                       20.0                         20.3   \n",
       "1                       23.1                         18.5   \n",
       "\n",
       "   CENSUS_UNITS_IN_STRUT_MOB_HOME  CENSUS_INCOME_INDEX  \n",
       "0                             0.2                178.0  \n",
       "1                             0.8                 82.0  \n",
       "\n",
       "[2 rows x 54 columns]"
      ]
     },
     "execution_count": 5,
     "metadata": {},
     "output_type": "execute_result"
    }
   ],
   "source": [
    "org_df=df2.copy()\n",
    "org_df.head(2)"
   ]
  },
  {
   "cell_type": "code",
   "execution_count": 6,
   "id": "335c43b2",
   "metadata": {
    "scrolled": true
   },
   "outputs": [
    {
     "data": {
      "text/plain": [
       "Index(['match_key', 'state', 'mail_date', 'payment_dt', 'zip_code', 'hui',\n",
       "       'ui', 'joined', 'age_in_years_drv_numeric', 'length_of_residence_1',\n",
       "       'marketing_attract_index', 'mkt_attract_score', 'MRI_TIER_TRV',\n",
       "       'SCORE_RESP_FINAL_EXPENSE', 'SCORE_RESP_MED_SUP',\n",
       "       'life_attrition_model_decile', 'NUMBER_OF_VEHICLES_REGISTERED',\n",
       "       'MARKET_RISK_INDEX', 'WEALTH_RATING', 'ACTIVITY_TILE', 'ARC_HOMEOWNER',\n",
       "       'COMBINED_PRESENCE_OF_CHILDREN', 'DWELLING_TYPE', 'OCCUPATION_GRPP1V2',\n",
       "       'EST_HH_INCOME_V5', 'MORTGAGE_AMOUNT_IN_THOUSANDS2',\n",
       "       'MORTGAGE_PROTECTION_DECILE', 'V1_RAAMEDINCOMERANGE', 'AGE_16_24_IN_HH',\n",
       "       'APT_FLAG', 'CHILDREN_COUNT_ON_RECORD', 'ANNUITY_SCORE',\n",
       "       'HOMEOWNER_PROBABILITY', 'NUMBER_PEOPLE_IN_LIVING_UNIT',\n",
       "       'PROSPECTSURVIVAL_DECILE', 'LIFE_ATTRITION_MODEL',\n",
       "       'LIFECLASSIFICATION_DECILE', 'PREMIUM_DECILE',\n",
       "       'CENSUS_AVERAGE_HOUSEHOLD_SIZE', 'CENSUS_PCT_25PL_MED_YRS_SCH_CP',\n",
       "       'CENSUS_MEDIAN_HOUSING_VALUE', 'CENSUS_MCF_W_PERSON_UNDER18',\n",
       "       'CENSUS_MCF_WO_PERSON_UNDER18', 'CENSUS_MEDIAN_AGE',\n",
       "       'CENSUS_MEDIAN_DWELLING_AGE', 'CENSUS_PCT_25PLUS_WITH_DEGREE',\n",
       "       'CENSUS_PCT_DU_OWNER_OCCUPIED', 'CENSUS_PCT_DU_RENTER_OCCUPIED',\n",
       "       'CENSUS_PCT_HH_MARRIED_COUPLES', 'CENSUS_PCT_POP_AGE_18PLUS',\n",
       "       'CENSUS_PCT_POP_AGE_65PLUS', 'CENSUS_PCT_POP_AGE_UNDER_18',\n",
       "       'CENSUS_UNITS_IN_STRUT_MOB_HOME', 'CENSUS_INCOME_INDEX'],\n",
       "      dtype='object')"
      ]
     },
     "execution_count": 6,
     "metadata": {},
     "output_type": "execute_result"
    }
   ],
   "source": [
    "df2.columns"
   ]
  },
  {
   "cell_type": "code",
   "execution_count": 7,
   "id": "34048407",
   "metadata": {},
   "outputs": [
    {
     "data": {
      "text/plain": [
       "(3958392, 54)"
      ]
     },
     "execution_count": 7,
     "metadata": {},
     "output_type": "execute_result"
    }
   ],
   "source": [
    "df2.shape"
   ]
  },
  {
   "cell_type": "code",
   "execution_count": 8,
   "id": "c24eb242",
   "metadata": {
    "scrolled": true
   },
   "outputs": [
    {
     "data": {
      "text/plain": [
       "match_key                                 object\n",
       "state                                     object\n",
       "mail_date                         datetime64[ns]\n",
       "payment_dt                        datetime64[ns]\n",
       "zip_code                                 float64\n",
       "hui                                      float64\n",
       "ui                                       float64\n",
       "joined                                   float64\n",
       "age_in_years_drv_numeric                 float64\n",
       "length_of_residence_1                    float64\n",
       "marketing_attract_index                  float64\n",
       "mkt_attract_score                        float64\n",
       "MRI_TIER_TRV                             float64\n",
       "SCORE_RESP_FINAL_EXPENSE                 float64\n",
       "SCORE_RESP_MED_SUP                       float64\n",
       "life_attrition_model_decile              float64\n",
       "NUMBER_OF_VEHICLES_REGISTERED            float64\n",
       "MARKET_RISK_INDEX                        float64\n",
       "WEALTH_RATING                            float64\n",
       "ACTIVITY_TILE                            float64\n",
       "ARC_HOMEOWNER                             object\n",
       "COMBINED_PRESENCE_OF_CHILDREN             object\n",
       "DWELLING_TYPE                             object\n",
       "OCCUPATION_GRPP1V2                        object\n",
       "EST_HH_INCOME_V5                          object\n",
       "MORTGAGE_AMOUNT_IN_THOUSANDS2            float64\n",
       "MORTGAGE_PROTECTION_DECILE               float64\n",
       "V1_RAAMEDINCOMERANGE                     float64\n",
       "AGE_16_24_IN_HH                           object\n",
       "APT_FLAG                                  object\n",
       "CHILDREN_COUNT_ON_RECORD                 float64\n",
       "ANNUITY_SCORE                            float64\n",
       "HOMEOWNER_PROBABILITY                    float64\n",
       "NUMBER_PEOPLE_IN_LIVING_UNIT             float64\n",
       "PROSPECTSURVIVAL_DECILE                  float64\n",
       "LIFE_ATTRITION_MODEL                     float64\n",
       "LIFECLASSIFICATION_DECILE                float64\n",
       "PREMIUM_DECILE                           float64\n",
       "CENSUS_AVERAGE_HOUSEHOLD_SIZE            float64\n",
       "CENSUS_PCT_25PL_MED_YRS_SCH_CP           float64\n",
       "CENSUS_MEDIAN_HOUSING_VALUE              float64\n",
       "CENSUS_MCF_W_PERSON_UNDER18              float64\n",
       "CENSUS_MCF_WO_PERSON_UNDER18             float64\n",
       "CENSUS_MEDIAN_AGE                        float64\n",
       "CENSUS_MEDIAN_DWELLING_AGE               float64\n",
       "CENSUS_PCT_25PLUS_WITH_DEGREE            float64\n",
       "CENSUS_PCT_DU_OWNER_OCCUPIED             float64\n",
       "CENSUS_PCT_DU_RENTER_OCCUPIED            float64\n",
       "CENSUS_PCT_HH_MARRIED_COUPLES            float64\n",
       "CENSUS_PCT_POP_AGE_18PLUS                float64\n",
       "CENSUS_PCT_POP_AGE_65PLUS                float64\n",
       "CENSUS_PCT_POP_AGE_UNDER_18              float64\n",
       "CENSUS_UNITS_IN_STRUT_MOB_HOME           float64\n",
       "CENSUS_INCOME_INDEX                      float64\n",
       "dtype: object"
      ]
     },
     "execution_count": 8,
     "metadata": {},
     "output_type": "execute_result"
    }
   ],
   "source": [
    "df2.dtypes"
   ]
  },
  {
   "cell_type": "code",
   "execution_count": 9,
   "id": "8f705927",
   "metadata": {},
   "outputs": [
    {
     "data": {
      "text/plain": [
       "dtype('O')"
      ]
     },
     "execution_count": 9,
     "metadata": {},
     "output_type": "execute_result"
    }
   ],
   "source": [
    "df2['zip_code']=df2['zip_code'].astype(object)\n",
    "df2['zip_code'].dtype"
   ]
  },
  {
   "cell_type": "code",
   "execution_count": 10,
   "id": "c8b7e5c6",
   "metadata": {
    "scrolled": true
   },
   "outputs": [
    {
     "data": {
      "text/html": [
       "<div>\n",
       "<style scoped>\n",
       "    .dataframe tbody tr th:only-of-type {\n",
       "        vertical-align: middle;\n",
       "    }\n",
       "\n",
       "    .dataframe tbody tr th {\n",
       "        vertical-align: top;\n",
       "    }\n",
       "\n",
       "    .dataframe thead th {\n",
       "        text-align: right;\n",
       "    }\n",
       "</style>\n",
       "<table border=\"1\" class=\"dataframe\">\n",
       "  <thead>\n",
       "    <tr style=\"text-align: right;\">\n",
       "      <th></th>\n",
       "      <th>match_key</th>\n",
       "      <th>state</th>\n",
       "      <th>mail_date</th>\n",
       "      <th>payment_dt</th>\n",
       "      <th>zip_code</th>\n",
       "      <th>hui</th>\n",
       "      <th>ui</th>\n",
       "      <th>joined</th>\n",
       "      <th>age_in_years_drv_numeric</th>\n",
       "      <th>length_of_residence_1</th>\n",
       "      <th>...</th>\n",
       "      <th>CENSUS_MEDIAN_DWELLING_AGE</th>\n",
       "      <th>CENSUS_PCT_25PLUS_WITH_DEGREE</th>\n",
       "      <th>CENSUS_PCT_DU_OWNER_OCCUPIED</th>\n",
       "      <th>CENSUS_PCT_DU_RENTER_OCCUPIED</th>\n",
       "      <th>CENSUS_PCT_HH_MARRIED_COUPLES</th>\n",
       "      <th>CENSUS_PCT_POP_AGE_18PLUS</th>\n",
       "      <th>CENSUS_PCT_POP_AGE_65PLUS</th>\n",
       "      <th>CENSUS_PCT_POP_AGE_UNDER_18</th>\n",
       "      <th>CENSUS_UNITS_IN_STRUT_MOB_HOME</th>\n",
       "      <th>CENSUS_INCOME_INDEX</th>\n",
       "    </tr>\n",
       "  </thead>\n",
       "  <tbody>\n",
       "    <tr>\n",
       "      <th>3</th>\n",
       "      <td>AABE178HIGHLANDDR34788</td>\n",
       "      <td>FL</td>\n",
       "      <td>2022-02-04</td>\n",
       "      <td>2022-11-23</td>\n",
       "      <td>34788.0</td>\n",
       "      <td>3.014185e+09</td>\n",
       "      <td>3.014185e+09</td>\n",
       "      <td>0.0</td>\n",
       "      <td>75.0</td>\n",
       "      <td>2.0</td>\n",
       "      <td>...</td>\n",
       "      <td>35.0</td>\n",
       "      <td>5.7</td>\n",
       "      <td>89.1</td>\n",
       "      <td>10.9</td>\n",
       "      <td>46.6</td>\n",
       "      <td>97.9</td>\n",
       "      <td>62.1</td>\n",
       "      <td>2.1</td>\n",
       "      <td>82.8</td>\n",
       "      <td>69.0</td>\n",
       "    </tr>\n",
       "    <tr>\n",
       "      <th>21</th>\n",
       "      <td>AAGA13004WHITNELLWAY33579</td>\n",
       "      <td>FL</td>\n",
       "      <td>2022-04-08</td>\n",
       "      <td>NaT</td>\n",
       "      <td>33579.0</td>\n",
       "      <td>1.008527e+09</td>\n",
       "      <td>1.008527e+09</td>\n",
       "      <td>0.0</td>\n",
       "      <td>52.0</td>\n",
       "      <td>23.0</td>\n",
       "      <td>...</td>\n",
       "      <td>14.0</td>\n",
       "      <td>10.2</td>\n",
       "      <td>80.8</td>\n",
       "      <td>19.2</td>\n",
       "      <td>62.6</td>\n",
       "      <td>69.4</td>\n",
       "      <td>10.6</td>\n",
       "      <td>30.6</td>\n",
       "      <td>2.7</td>\n",
       "      <td>123.0</td>\n",
       "    </tr>\n",
       "    <tr>\n",
       "      <th>32</th>\n",
       "      <td>AAGE6401EDGEWOODDR48108</td>\n",
       "      <td>MI</td>\n",
       "      <td>2022-02-04</td>\n",
       "      <td>NaT</td>\n",
       "      <td>48108.0</td>\n",
       "      <td>2.003920e+09</td>\n",
       "      <td>2.003920e+09</td>\n",
       "      <td>0.0</td>\n",
       "      <td>45.0</td>\n",
       "      <td>12.0</td>\n",
       "      <td>...</td>\n",
       "      <td>19.0</td>\n",
       "      <td>44.0</td>\n",
       "      <td>95.3</td>\n",
       "      <td>4.7</td>\n",
       "      <td>86.9</td>\n",
       "      <td>67.1</td>\n",
       "      <td>9.1</td>\n",
       "      <td>32.9</td>\n",
       "      <td>0.1</td>\n",
       "      <td>228.0</td>\n",
       "    </tr>\n",
       "    <tr>\n",
       "      <th>60</th>\n",
       "      <td>AALD2220TRADITIONDRNE49505</td>\n",
       "      <td>MI</td>\n",
       "      <td>2022-07-29</td>\n",
       "      <td>2022-12-12</td>\n",
       "      <td>49505.0</td>\n",
       "      <td>2.013775e+09</td>\n",
       "      <td>2.013775e+09</td>\n",
       "      <td>0.0</td>\n",
       "      <td>42.0</td>\n",
       "      <td>6.0</td>\n",
       "      <td>...</td>\n",
       "      <td>32.0</td>\n",
       "      <td>12.7</td>\n",
       "      <td>46.2</td>\n",
       "      <td>53.8</td>\n",
       "      <td>41.2</td>\n",
       "      <td>79.0</td>\n",
       "      <td>8.9</td>\n",
       "      <td>21.0</td>\n",
       "      <td>0.0</td>\n",
       "      <td>116.0</td>\n",
       "    </tr>\n",
       "    <tr>\n",
       "      <th>61</th>\n",
       "      <td>AALD230SSTATEST49464</td>\n",
       "      <td>MI</td>\n",
       "      <td>2022-02-04</td>\n",
       "      <td>NaT</td>\n",
       "      <td>49464.0</td>\n",
       "      <td>2.012298e+09</td>\n",
       "      <td>2.012298e+09</td>\n",
       "      <td>0.0</td>\n",
       "      <td>83.0</td>\n",
       "      <td>9.0</td>\n",
       "      <td>...</td>\n",
       "      <td>54.0</td>\n",
       "      <td>6.8</td>\n",
       "      <td>92.7</td>\n",
       "      <td>7.3</td>\n",
       "      <td>53.1</td>\n",
       "      <td>75.3</td>\n",
       "      <td>25.5</td>\n",
       "      <td>24.7</td>\n",
       "      <td>0.0</td>\n",
       "      <td>101.0</td>\n",
       "    </tr>\n",
       "    <tr>\n",
       "      <th>...</th>\n",
       "      <td>...</td>\n",
       "      <td>...</td>\n",
       "      <td>...</td>\n",
       "      <td>...</td>\n",
       "      <td>...</td>\n",
       "      <td>...</td>\n",
       "      <td>...</td>\n",
       "      <td>...</td>\n",
       "      <td>...</td>\n",
       "      <td>...</td>\n",
       "      <td>...</td>\n",
       "      <td>...</td>\n",
       "      <td>...</td>\n",
       "      <td>...</td>\n",
       "      <td>...</td>\n",
       "      <td>...</td>\n",
       "      <td>...</td>\n",
       "      <td>...</td>\n",
       "      <td>...</td>\n",
       "      <td>...</td>\n",
       "      <td>...</td>\n",
       "    </tr>\n",
       "    <tr>\n",
       "      <th>3958346</th>\n",
       "      <td>STEA9149WINDJAMMERLN32819</td>\n",
       "      <td>FL</td>\n",
       "      <td>2022-07-29</td>\n",
       "      <td>NaT</td>\n",
       "      <td>32819.0</td>\n",
       "      <td>3.009567e+09</td>\n",
       "      <td>3.009567e+09</td>\n",
       "      <td>0.0</td>\n",
       "      <td>25.0</td>\n",
       "      <td>3.0</td>\n",
       "      <td>...</td>\n",
       "      <td>26.0</td>\n",
       "      <td>25.4</td>\n",
       "      <td>89.9</td>\n",
       "      <td>10.1</td>\n",
       "      <td>73.4</td>\n",
       "      <td>85.9</td>\n",
       "      <td>27.0</td>\n",
       "      <td>14.1</td>\n",
       "      <td>0.1</td>\n",
       "      <td>228.0</td>\n",
       "    </tr>\n",
       "    <tr>\n",
       "      <th>3958357</th>\n",
       "      <td>STEA8571SW19THST33324</td>\n",
       "      <td>FL</td>\n",
       "      <td>2022-03-04</td>\n",
       "      <td>NaT</td>\n",
       "      <td>33324.0</td>\n",
       "      <td>3.007667e+09</td>\n",
       "      <td>3.007667e+09</td>\n",
       "      <td>0.0</td>\n",
       "      <td>68.0</td>\n",
       "      <td>21.0</td>\n",
       "      <td>...</td>\n",
       "      <td>54.0</td>\n",
       "      <td>8.0</td>\n",
       "      <td>84.2</td>\n",
       "      <td>15.8</td>\n",
       "      <td>29.5</td>\n",
       "      <td>99.5</td>\n",
       "      <td>66.4</td>\n",
       "      <td>0.5</td>\n",
       "      <td>91.4</td>\n",
       "      <td>57.0</td>\n",
       "    </tr>\n",
       "    <tr>\n",
       "      <th>3958363</th>\n",
       "      <td>STEA8374JACLYNANNDR48433</td>\n",
       "      <td>MI</td>\n",
       "      <td>2022-02-04</td>\n",
       "      <td>NaT</td>\n",
       "      <td>48433.0</td>\n",
       "      <td>2.006026e+09</td>\n",
       "      <td>2.006026e+09</td>\n",
       "      <td>0.0</td>\n",
       "      <td>61.0</td>\n",
       "      <td>26.0</td>\n",
       "      <td>...</td>\n",
       "      <td>46.0</td>\n",
       "      <td>14.5</td>\n",
       "      <td>91.0</td>\n",
       "      <td>9.0</td>\n",
       "      <td>63.7</td>\n",
       "      <td>79.3</td>\n",
       "      <td>21.9</td>\n",
       "      <td>20.7</td>\n",
       "      <td>1.3</td>\n",
       "      <td>126.0</td>\n",
       "    </tr>\n",
       "    <tr>\n",
       "      <th>3958364</th>\n",
       "      <td>STEA8338NEWORLEANSCT32566</td>\n",
       "      <td>FL</td>\n",
       "      <td>2022-03-04</td>\n",
       "      <td>NaT</td>\n",
       "      <td>32566.0</td>\n",
       "      <td>1.009896e+09</td>\n",
       "      <td>1.009864e+09</td>\n",
       "      <td>0.0</td>\n",
       "      <td>47.0</td>\n",
       "      <td>6.0</td>\n",
       "      <td>...</td>\n",
       "      <td>23.0</td>\n",
       "      <td>10.1</td>\n",
       "      <td>82.5</td>\n",
       "      <td>17.5</td>\n",
       "      <td>63.5</td>\n",
       "      <td>76.1</td>\n",
       "      <td>11.9</td>\n",
       "      <td>23.9</td>\n",
       "      <td>11.3</td>\n",
       "      <td>117.0</td>\n",
       "    </tr>\n",
       "    <tr>\n",
       "      <th>3958384</th>\n",
       "      <td>STEA7820FANNINGCT33907</td>\n",
       "      <td>FL</td>\n",
       "      <td>2022-02-04</td>\n",
       "      <td>NaT</td>\n",
       "      <td>33907.0</td>\n",
       "      <td>1.000503e+09</td>\n",
       "      <td>1.000503e+09</td>\n",
       "      <td>0.0</td>\n",
       "      <td>86.0</td>\n",
       "      <td>0.0</td>\n",
       "      <td>...</td>\n",
       "      <td>16.0</td>\n",
       "      <td>17.3</td>\n",
       "      <td>62.3</td>\n",
       "      <td>37.7</td>\n",
       "      <td>45.0</td>\n",
       "      <td>87.5</td>\n",
       "      <td>33.1</td>\n",
       "      <td>12.5</td>\n",
       "      <td>7.1</td>\n",
       "      <td>107.0</td>\n",
       "    </tr>\n",
       "  </tbody>\n",
       "</table>\n",
       "<p>374551 rows × 54 columns</p>\n",
       "</div>"
      ],
      "text/plain": [
       "                              match_key state  mail_date payment_dt zip_code  \\\n",
       "3        AABE178HIGHLANDDR34788            FL 2022-02-04 2022-11-23  34788.0   \n",
       "21       AAGA13004WHITNELLWAY33579         FL 2022-04-08        NaT  33579.0   \n",
       "32       AAGE6401EDGEWOODDR48108           MI 2022-02-04        NaT  48108.0   \n",
       "60       AALD2220TRADITIONDRNE49505        MI 2022-07-29 2022-12-12  49505.0   \n",
       "61       AALD230SSTATEST49464              MI 2022-02-04        NaT  49464.0   \n",
       "...                                 ...   ...        ...        ...      ...   \n",
       "3958346  STEA9149WINDJAMMERLN32819         FL 2022-07-29        NaT  32819.0   \n",
       "3958357  STEA8571SW19THST33324             FL 2022-03-04        NaT  33324.0   \n",
       "3958363  STEA8374JACLYNANNDR48433          MI 2022-02-04        NaT  48433.0   \n",
       "3958364  STEA8338NEWORLEANSCT32566         FL 2022-03-04        NaT  32566.0   \n",
       "3958384  STEA7820FANNINGCT33907            FL 2022-02-04        NaT  33907.0   \n",
       "\n",
       "                  hui            ui  joined  age_in_years_drv_numeric  \\\n",
       "3        3.014185e+09  3.014185e+09     0.0                      75.0   \n",
       "21       1.008527e+09  1.008527e+09     0.0                      52.0   \n",
       "32       2.003920e+09  2.003920e+09     0.0                      45.0   \n",
       "60       2.013775e+09  2.013775e+09     0.0                      42.0   \n",
       "61       2.012298e+09  2.012298e+09     0.0                      83.0   \n",
       "...               ...           ...     ...                       ...   \n",
       "3958346  3.009567e+09  3.009567e+09     0.0                      25.0   \n",
       "3958357  3.007667e+09  3.007667e+09     0.0                      68.0   \n",
       "3958363  2.006026e+09  2.006026e+09     0.0                      61.0   \n",
       "3958364  1.009896e+09  1.009864e+09     0.0                      47.0   \n",
       "3958384  1.000503e+09  1.000503e+09     0.0                      86.0   \n",
       "\n",
       "         length_of_residence_1  ...  CENSUS_MEDIAN_DWELLING_AGE  \\\n",
       "3                          2.0  ...                        35.0   \n",
       "21                        23.0  ...                        14.0   \n",
       "32                        12.0  ...                        19.0   \n",
       "60                         6.0  ...                        32.0   \n",
       "61                         9.0  ...                        54.0   \n",
       "...                        ...  ...                         ...   \n",
       "3958346                    3.0  ...                        26.0   \n",
       "3958357                   21.0  ...                        54.0   \n",
       "3958363                   26.0  ...                        46.0   \n",
       "3958364                    6.0  ...                        23.0   \n",
       "3958384                    0.0  ...                        16.0   \n",
       "\n",
       "         CENSUS_PCT_25PLUS_WITH_DEGREE  CENSUS_PCT_DU_OWNER_OCCUPIED  \\\n",
       "3                                  5.7                          89.1   \n",
       "21                                10.2                          80.8   \n",
       "32                                44.0                          95.3   \n",
       "60                                12.7                          46.2   \n",
       "61                                 6.8                          92.7   \n",
       "...                                ...                           ...   \n",
       "3958346                           25.4                          89.9   \n",
       "3958357                            8.0                          84.2   \n",
       "3958363                           14.5                          91.0   \n",
       "3958364                           10.1                          82.5   \n",
       "3958384                           17.3                          62.3   \n",
       "\n",
       "         CENSUS_PCT_DU_RENTER_OCCUPIED  CENSUS_PCT_HH_MARRIED_COUPLES  \\\n",
       "3                                 10.9                           46.6   \n",
       "21                                19.2                           62.6   \n",
       "32                                 4.7                           86.9   \n",
       "60                                53.8                           41.2   \n",
       "61                                 7.3                           53.1   \n",
       "...                                ...                            ...   \n",
       "3958346                           10.1                           73.4   \n",
       "3958357                           15.8                           29.5   \n",
       "3958363                            9.0                           63.7   \n",
       "3958364                           17.5                           63.5   \n",
       "3958384                           37.7                           45.0   \n",
       "\n",
       "         CENSUS_PCT_POP_AGE_18PLUS  CENSUS_PCT_POP_AGE_65PLUS  \\\n",
       "3                             97.9                       62.1   \n",
       "21                            69.4                       10.6   \n",
       "32                            67.1                        9.1   \n",
       "60                            79.0                        8.9   \n",
       "61                            75.3                       25.5   \n",
       "...                            ...                        ...   \n",
       "3958346                       85.9                       27.0   \n",
       "3958357                       99.5                       66.4   \n",
       "3958363                       79.3                       21.9   \n",
       "3958364                       76.1                       11.9   \n",
       "3958384                       87.5                       33.1   \n",
       "\n",
       "         CENSUS_PCT_POP_AGE_UNDER_18  CENSUS_UNITS_IN_STRUT_MOB_HOME  \\\n",
       "3                                2.1                            82.8   \n",
       "21                              30.6                             2.7   \n",
       "32                              32.9                             0.1   \n",
       "60                              21.0                             0.0   \n",
       "61                              24.7                             0.0   \n",
       "...                              ...                             ...   \n",
       "3958346                         14.1                             0.1   \n",
       "3958357                          0.5                            91.4   \n",
       "3958363                         20.7                             1.3   \n",
       "3958364                         23.9                            11.3   \n",
       "3958384                         12.5                             7.1   \n",
       "\n",
       "         CENSUS_INCOME_INDEX  \n",
       "3                       69.0  \n",
       "21                     123.0  \n",
       "32                     228.0  \n",
       "60                     116.0  \n",
       "61                     101.0  \n",
       "...                      ...  \n",
       "3958346                228.0  \n",
       "3958357                 57.0  \n",
       "3958363                126.0  \n",
       "3958364                117.0  \n",
       "3958384                107.0  \n",
       "\n",
       "[374551 rows x 54 columns]"
      ]
     },
     "execution_count": 10,
     "metadata": {},
     "output_type": "execute_result"
    }
   ],
   "source": [
    "df2[~df2['hui'].isna()]"
   ]
  },
  {
   "cell_type": "code",
   "execution_count": 11,
   "id": "cb7bebff",
   "metadata": {},
   "outputs": [
    {
     "data": {
      "text/plain": [
       "0                   NaN\n",
       "1                   NaN\n",
       "2                   NaN\n",
       "3          3014185154.0\n",
       "4                   NaN\n",
       "               ...     \n",
       "3958387             NaN\n",
       "3958388             NaN\n",
       "3958389             NaN\n",
       "3958390             NaN\n",
       "3958391             NaN\n",
       "Name: ui, Length: 3958392, dtype: object"
      ]
     },
     "execution_count": 11,
     "metadata": {},
     "output_type": "execute_result"
    }
   ],
   "source": [
    "df2['hui'].astype(object)\n",
    "df2['ui'].astype(object)"
   ]
  },
  {
   "cell_type": "code",
   "execution_count": 12,
   "id": "e0a7ce06",
   "metadata": {},
   "outputs": [
    {
     "data": {
      "text/plain": [
       "374551"
      ]
     },
     "execution_count": 12,
     "metadata": {},
     "output_type": "execute_result"
    }
   ],
   "source": [
    "df2['hui'].count()"
   ]
  },
  {
   "cell_type": "code",
   "execution_count": 13,
   "id": "2582d08b",
   "metadata": {},
   "outputs": [
    {
     "data": {
      "text/plain": [
       "374551"
      ]
     },
     "execution_count": 13,
     "metadata": {},
     "output_type": "execute_result"
    }
   ],
   "source": [
    "df2['ui'].count()"
   ]
  },
  {
   "cell_type": "code",
   "execution_count": 14,
   "id": "e19b40be",
   "metadata": {},
   "outputs": [
    {
     "data": {
      "text/plain": [
       "COMBINED_PRESENCE_OF_CHILDREN\n",
       "Y    1755061\n",
       "N    1561832\n",
       "U     641498\n",
       "           1\n",
       "Name: count, dtype: int64"
      ]
     },
     "execution_count": 14,
     "metadata": {},
     "output_type": "execute_result"
    }
   ],
   "source": [
    "df2['COMBINED_PRESENCE_OF_CHILDREN'].value_counts()"
   ]
  },
  {
   "cell_type": "code",
   "execution_count": 15,
   "id": "0161a0c0",
   "metadata": {},
   "outputs": [],
   "source": [
    "df2['COMBINED_PRESENCE_OF_CHILDREN'].replace(' ','U',inplace=True)"
   ]
  },
  {
   "cell_type": "code",
   "execution_count": 16,
   "id": "a33e4729",
   "metadata": {},
   "outputs": [
    {
     "data": {
      "text/plain": [
       "COMBINED_PRESENCE_OF_CHILDREN\n",
       "Y    1755061\n",
       "N    1561832\n",
       "U     641499\n",
       "Name: count, dtype: int64"
      ]
     },
     "execution_count": 16,
     "metadata": {},
     "output_type": "execute_result"
    }
   ],
   "source": [
    "df2['COMBINED_PRESENCE_OF_CHILDREN'].value_counts()"
   ]
  },
  {
   "cell_type": "markdown",
   "id": "24d28333",
   "metadata": {},
   "source": [
    "## V1_RAAMEDINCOMERANGE- Median annual income of relatives and associates\n",
    "\n",
    "(-1=Unknown; 1=1–25,000; 2=25,001–50,000; 3=50,001–75,000; 4=75,001–100,000; 5=100,001-125,000; 6=125,001–150,000; 7=150,001–175,000; 8=175,001-200,000; 9=200,001-225,000; 10=225,001-250,000; 11=250,000+)"
   ]
  },
  {
   "cell_type": "code",
   "execution_count": 17,
   "id": "35114fc6",
   "metadata": {},
   "outputs": [
    {
     "data": {
      "text/plain": [
       "V1_RAAMEDINCOMERANGE\n",
       " 7.0     1396172\n",
       " 6.0     1025936\n",
       " 5.0      567617\n",
       " 8.0      489511\n",
       " 9.0      146509\n",
       " 4.0      140154\n",
       " 3.0       72156\n",
       " 10.0      51916\n",
       " 2.0       30551\n",
       " 1.0       19602\n",
       " 11.0      12537\n",
       "-1.0        5730\n",
       "Name: count, dtype: int64"
      ]
     },
     "execution_count": 17,
     "metadata": {},
     "output_type": "execute_result"
    }
   ],
   "source": [
    "df2['V1_RAAMEDINCOMERANGE'].value_counts()"
   ]
  },
  {
   "cell_type": "code",
   "execution_count": 18,
   "id": "19d9f282",
   "metadata": {},
   "outputs": [],
   "source": [
    "df2['V1_RAAMEDINCOMERANGE'].fillna(-1.0,inplace=True)"
   ]
  },
  {
   "cell_type": "code",
   "execution_count": 19,
   "id": "f9a12762",
   "metadata": {},
   "outputs": [
    {
     "data": {
      "text/html": [
       "<div>\n",
       "<style scoped>\n",
       "    .dataframe tbody tr th:only-of-type {\n",
       "        vertical-align: middle;\n",
       "    }\n",
       "\n",
       "    .dataframe tbody tr th {\n",
       "        vertical-align: top;\n",
       "    }\n",
       "\n",
       "    .dataframe thead th {\n",
       "        text-align: right;\n",
       "    }\n",
       "</style>\n",
       "<table border=\"1\" class=\"dataframe\">\n",
       "  <thead>\n",
       "    <tr style=\"text-align: right;\">\n",
       "      <th></th>\n",
       "      <th>match_key</th>\n",
       "      <th>state</th>\n",
       "      <th>mail_date</th>\n",
       "      <th>payment_dt</th>\n",
       "      <th>zip_code</th>\n",
       "      <th>hui</th>\n",
       "      <th>ui</th>\n",
       "      <th>joined</th>\n",
       "      <th>age_in_years_drv_numeric</th>\n",
       "      <th>length_of_residence_1</th>\n",
       "      <th>...</th>\n",
       "      <th>CENSUS_MEDIAN_DWELLING_AGE</th>\n",
       "      <th>CENSUS_PCT_25PLUS_WITH_DEGREE</th>\n",
       "      <th>CENSUS_PCT_DU_OWNER_OCCUPIED</th>\n",
       "      <th>CENSUS_PCT_DU_RENTER_OCCUPIED</th>\n",
       "      <th>CENSUS_PCT_HH_MARRIED_COUPLES</th>\n",
       "      <th>CENSUS_PCT_POP_AGE_18PLUS</th>\n",
       "      <th>CENSUS_PCT_POP_AGE_65PLUS</th>\n",
       "      <th>CENSUS_PCT_POP_AGE_UNDER_18</th>\n",
       "      <th>CENSUS_UNITS_IN_STRUT_MOB_HOME</th>\n",
       "      <th>CENSUS_INCOME_INDEX</th>\n",
       "    </tr>\n",
       "  </thead>\n",
       "  <tbody>\n",
       "  </tbody>\n",
       "</table>\n",
       "<p>0 rows × 54 columns</p>\n",
       "</div>"
      ],
      "text/plain": [
       "Empty DataFrame\n",
       "Columns: [match_key, state, mail_date, payment_dt, zip_code, hui, ui, joined, age_in_years_drv_numeric, length_of_residence_1, marketing_attract_index, mkt_attract_score, MRI_TIER_TRV, SCORE_RESP_FINAL_EXPENSE, SCORE_RESP_MED_SUP, life_attrition_model_decile, NUMBER_OF_VEHICLES_REGISTERED, MARKET_RISK_INDEX, WEALTH_RATING, ACTIVITY_TILE, ARC_HOMEOWNER, COMBINED_PRESENCE_OF_CHILDREN, DWELLING_TYPE, OCCUPATION_GRPP1V2, EST_HH_INCOME_V5, MORTGAGE_AMOUNT_IN_THOUSANDS2, MORTGAGE_PROTECTION_DECILE, V1_RAAMEDINCOMERANGE, AGE_16_24_IN_HH, APT_FLAG, CHILDREN_COUNT_ON_RECORD, ANNUITY_SCORE, HOMEOWNER_PROBABILITY, NUMBER_PEOPLE_IN_LIVING_UNIT, PROSPECTSURVIVAL_DECILE, LIFE_ATTRITION_MODEL, LIFECLASSIFICATION_DECILE, PREMIUM_DECILE, CENSUS_AVERAGE_HOUSEHOLD_SIZE, CENSUS_PCT_25PL_MED_YRS_SCH_CP, CENSUS_MEDIAN_HOUSING_VALUE, CENSUS_MCF_W_PERSON_UNDER18, CENSUS_MCF_WO_PERSON_UNDER18, CENSUS_MEDIAN_AGE, CENSUS_MEDIAN_DWELLING_AGE, CENSUS_PCT_25PLUS_WITH_DEGREE, CENSUS_PCT_DU_OWNER_OCCUPIED, CENSUS_PCT_DU_RENTER_OCCUPIED, CENSUS_PCT_HH_MARRIED_COUPLES, CENSUS_PCT_POP_AGE_18PLUS, CENSUS_PCT_POP_AGE_65PLUS, CENSUS_PCT_POP_AGE_UNDER_18, CENSUS_UNITS_IN_STRUT_MOB_HOME, CENSUS_INCOME_INDEX]\n",
       "Index: []\n",
       "\n",
       "[0 rows x 54 columns]"
      ]
     },
     "execution_count": 19,
     "metadata": {},
     "output_type": "execute_result"
    }
   ],
   "source": [
    "df2[df2['V1_RAAMEDINCOMERANGE'].isna()]"
   ]
  },
  {
   "cell_type": "code",
   "execution_count": 20,
   "id": "9fc732eb",
   "metadata": {},
   "outputs": [
    {
     "data": {
      "text/plain": [
       "dtype('int32')"
      ]
     },
     "execution_count": 20,
     "metadata": {},
     "output_type": "execute_result"
    }
   ],
   "source": [
    "df2['V1_RAAMEDINCOMERANGE']=df2['V1_RAAMEDINCOMERANGE'].astype(int)\n",
    "df2['V1_RAAMEDINCOMERANGE'].dtype"
   ]
  },
  {
   "cell_type": "code",
   "execution_count": 21,
   "id": "aeef38d8",
   "metadata": {},
   "outputs": [
    {
     "data": {
      "text/plain": [
       "V1_RAAMEDINCOMERANGE\n",
       " 7     1396172\n",
       " 6     1025936\n",
       " 5      567617\n",
       " 8      489511\n",
       " 9      146509\n",
       " 4      140154\n",
       " 3       72156\n",
       " 10      51916\n",
       " 2       30551\n",
       " 1       19602\n",
       " 11      12537\n",
       "-1        5731\n",
       "Name: count, dtype: int64"
      ]
     },
     "execution_count": 21,
     "metadata": {},
     "output_type": "execute_result"
    }
   ],
   "source": [
    "df2['V1_RAAMEDINCOMERANGE'].value_counts()"
   ]
  },
  {
   "cell_type": "code",
   "execution_count": 22,
   "id": "d86ffe90",
   "metadata": {},
   "outputs": [
    {
     "data": {
      "image/png": "[encoded data removed]",
      "text/plain": [
       "<Figure size 640x480 with 1 Axes>"
      ]
     },
     "metadata": {},
     "output_type": "display_data"
    }
   ],
   "source": [
    "import seaborn as sns\n",
    "import matplotlib.pyplot as plt\n",
    "sns.histplot(data=df2['V1_RAAMEDINCOMERANGE'],binwidth=0.5)\n",
    "plt.title('Frequency Distribution of relative & associates income')\n",
    "plt.xticks(range(-1,12,1))\n",
    "plt.show()"
   ]
  },
  {
   "cell_type": "markdown",
   "id": "4add95a7",
   "metadata": {},
   "source": [
    "## AGE_16_24_IN_HH\n",
    "Presence of 16-24 Year Old Presence of young driver  "
   ]
  },
  {
   "cell_type": "code",
   "execution_count": 23,
   "id": "b1c6ac42",
   "metadata": {},
   "outputs": [
    {
     "data": {
      "text/plain": [
       "AGE_16_24_IN_HH\n",
       "N    3375607\n",
       "Y     582784\n",
       "           1\n",
       "Name: count, dtype: int64"
      ]
     },
     "execution_count": 23,
     "metadata": {},
     "output_type": "execute_result"
    }
   ],
   "source": [
    "df2['AGE_16_24_IN_HH'].value_counts()"
   ]
  },
  {
   "cell_type": "code",
   "execution_count": 24,
   "id": "fcc9e936",
   "metadata": {},
   "outputs": [
    {
     "data": {
      "text/plain": [
       "AGE_16_24_IN_HH\n",
       "N    3375608\n",
       "Y     582784\n",
       "Name: count, dtype: int64"
      ]
     },
     "execution_count": 24,
     "metadata": {},
     "output_type": "execute_result"
    }
   ],
   "source": [
    "df2['AGE_16_24_IN_HH'].replace(' ','N',inplace=True)\n",
    "df2['AGE_16_24_IN_HH'].value_counts()"
   ]
  },
  {
   "cell_type": "code",
   "execution_count": 25,
   "id": "bff64078",
   "metadata": {},
   "outputs": [
    {
     "data": {
      "image/png": "[encoded data removed]",
      "text/plain": [
       "<Figure size 640x480 with 1 Axes>"
      ]
     },
     "metadata": {},
     "output_type": "display_data"
    }
   ],
   "source": [
    "sns.histplot(data=df2['AGE_16_24_IN_HH'],binwidth=0.5)\n",
    "plt.title('Frequency Distribution of presence of 16-24 yr old')\n",
    "#plt.xticks(range(-1,12,1))\n",
    "frequencies, bin_edges, _ = plt.hist(df2['AGE_16_24_IN_HH'], bins='auto')\n",
    "for i in range(len(frequencies)):\n",
    "    # Check if the frequency is greater than 0\n",
    "    if frequencies[i] > 0:\n",
    "        plt.text(bin_edges[i] + 0.5, frequencies[i], str(int(frequencies[i])),\n",
    "                 fontsize=12, ha='center', va='bottom')\n",
    "plt.show()"
   ]
  },
  {
   "cell_type": "markdown",
   "id": "1c48f8b1",
   "metadata": {},
   "source": [
    "## apt - flag\n",
    "presence of an apartment"
   ]
  },
  {
   "cell_type": "code",
   "execution_count": 26,
   "id": "f4a3adb7",
   "metadata": {},
   "outputs": [
    {
     "data": {
      "text/plain": [
       "APT_FLAG\n",
       "N    3573420\n",
       "Y     384971\n",
       "           1\n",
       "Name: count, dtype: int64"
      ]
     },
     "execution_count": 26,
     "metadata": {},
     "output_type": "execute_result"
    }
   ],
   "source": [
    "df2['APT_FLAG'].value_counts()"
   ]
  },
  {
   "cell_type": "code",
   "execution_count": 27,
   "id": "115258e6",
   "metadata": {},
   "outputs": [
    {
     "data": {
      "text/html": [
       "<div>\n",
       "<style scoped>\n",
       "    .dataframe tbody tr th:only-of-type {\n",
       "        vertical-align: middle;\n",
       "    }\n",
       "\n",
       "    .dataframe tbody tr th {\n",
       "        vertical-align: top;\n",
       "    }\n",
       "\n",
       "    .dataframe thead th {\n",
       "        text-align: right;\n",
       "    }\n",
       "</style>\n",
       "<table border=\"1\" class=\"dataframe\">\n",
       "  <thead>\n",
       "    <tr style=\"text-align: right;\">\n",
       "      <th></th>\n",
       "      <th>match_key</th>\n",
       "      <th>state</th>\n",
       "      <th>mail_date</th>\n",
       "      <th>payment_dt</th>\n",
       "      <th>zip_code</th>\n",
       "      <th>hui</th>\n",
       "      <th>ui</th>\n",
       "      <th>joined</th>\n",
       "      <th>age_in_years_drv_numeric</th>\n",
       "      <th>length_of_residence_1</th>\n",
       "      <th>...</th>\n",
       "      <th>CENSUS_MEDIAN_DWELLING_AGE</th>\n",
       "      <th>CENSUS_PCT_25PLUS_WITH_DEGREE</th>\n",
       "      <th>CENSUS_PCT_DU_OWNER_OCCUPIED</th>\n",
       "      <th>CENSUS_PCT_DU_RENTER_OCCUPIED</th>\n",
       "      <th>CENSUS_PCT_HH_MARRIED_COUPLES</th>\n",
       "      <th>CENSUS_PCT_POP_AGE_18PLUS</th>\n",
       "      <th>CENSUS_PCT_POP_AGE_65PLUS</th>\n",
       "      <th>CENSUS_PCT_POP_AGE_UNDER_18</th>\n",
       "      <th>CENSUS_UNITS_IN_STRUT_MOB_HOME</th>\n",
       "      <th>CENSUS_INCOME_INDEX</th>\n",
       "    </tr>\n",
       "  </thead>\n",
       "  <tbody>\n",
       "    <tr>\n",
       "      <th>2160558</th>\n",
       "      <td>LEVI40046SANDPOINTWAY48375</td>\n",
       "      <td></td>\n",
       "      <td>NaT</td>\n",
       "      <td>NaT</td>\n",
       "      <td>NaN</td>\n",
       "      <td>NaN</td>\n",
       "      <td>NaN</td>\n",
       "      <td>NaN</td>\n",
       "      <td>NaN</td>\n",
       "      <td>NaN</td>\n",
       "      <td>...</td>\n",
       "      <td>NaN</td>\n",
       "      <td>NaN</td>\n",
       "      <td>NaN</td>\n",
       "      <td>NaN</td>\n",
       "      <td>NaN</td>\n",
       "      <td>NaN</td>\n",
       "      <td>NaN</td>\n",
       "      <td>NaN</td>\n",
       "      <td>NaN</td>\n",
       "      <td>NaN</td>\n",
       "    </tr>\n",
       "  </tbody>\n",
       "</table>\n",
       "<p>1 rows × 54 columns</p>\n",
       "</div>"
      ],
      "text/plain": [
       "                              match_key state mail_date payment_dt zip_code  \\\n",
       "2160558  LEVI40046SANDPOINTWAY48375                 NaT        NaT      NaN   \n",
       "\n",
       "         hui  ui  joined  age_in_years_drv_numeric  length_of_residence_1  \\\n",
       "2160558  NaN NaN     NaN                       NaN                    NaN   \n",
       "\n",
       "         ...  CENSUS_MEDIAN_DWELLING_AGE  CENSUS_PCT_25PLUS_WITH_DEGREE  \\\n",
       "2160558  ...                         NaN                            NaN   \n",
       "\n",
       "         CENSUS_PCT_DU_OWNER_OCCUPIED  CENSUS_PCT_DU_RENTER_OCCUPIED  \\\n",
       "2160558                           NaN                            NaN   \n",
       "\n",
       "         CENSUS_PCT_HH_MARRIED_COUPLES  CENSUS_PCT_POP_AGE_18PLUS  \\\n",
       "2160558                            NaN                        NaN   \n",
       "\n",
       "         CENSUS_PCT_POP_AGE_65PLUS  CENSUS_PCT_POP_AGE_UNDER_18  \\\n",
       "2160558                        NaN                          NaN   \n",
       "\n",
       "         CENSUS_UNITS_IN_STRUT_MOB_HOME  CENSUS_INCOME_INDEX  \n",
       "2160558                             NaN                  NaN  \n",
       "\n",
       "[1 rows x 54 columns]"
      ]
     },
     "execution_count": 27,
     "metadata": {},
     "output_type": "execute_result"
    }
   ],
   "source": [
    "df2[df2['APT_FLAG']==' ']"
   ]
  },
  {
   "cell_type": "code",
   "execution_count": 28,
   "id": "9f2222ec",
   "metadata": {},
   "outputs": [],
   "source": [
    "df2.drop(2160558,inplace=True) "
   ]
  },
  {
   "cell_type": "code",
   "execution_count": 29,
   "id": "e196492a",
   "metadata": {},
   "outputs": [
    {
     "data": {
      "text/plain": [
       "APT_FLAG\n",
       "N    3573420\n",
       "Y     384971\n",
       "Name: count, dtype: int64"
      ]
     },
     "execution_count": 29,
     "metadata": {},
     "output_type": "execute_result"
    }
   ],
   "source": [
    "df2['APT_FLAG'].value_counts()"
   ]
  },
  {
   "cell_type": "code",
   "execution_count": 30,
   "id": "4756b9c0",
   "metadata": {},
   "outputs": [
    {
     "data": {
      "text/plain": [
       "Index(['match_key', 'state', 'mail_date', 'payment_dt', 'zip_code', 'hui',\n",
       "       'ui', 'joined', 'age_in_years_drv_numeric', 'length_of_residence_1',\n",
       "       'marketing_attract_index', 'mkt_attract_score', 'MRI_TIER_TRV',\n",
       "       'SCORE_RESP_FINAL_EXPENSE', 'SCORE_RESP_MED_SUP',\n",
       "       'life_attrition_model_decile', 'NUMBER_OF_VEHICLES_REGISTERED',\n",
       "       'MARKET_RISK_INDEX', 'WEALTH_RATING', 'ACTIVITY_TILE', 'ARC_HOMEOWNER',\n",
       "       'COMBINED_PRESENCE_OF_CHILDREN', 'DWELLING_TYPE', 'OCCUPATION_GRPP1V2',\n",
       "       'EST_HH_INCOME_V5', 'MORTGAGE_AMOUNT_IN_THOUSANDS2',\n",
       "       'MORTGAGE_PROTECTION_DECILE', 'V1_RAAMEDINCOMERANGE', 'AGE_16_24_IN_HH',\n",
       "       'APT_FLAG', 'CHILDREN_COUNT_ON_RECORD', 'ANNUITY_SCORE',\n",
       "       'HOMEOWNER_PROBABILITY', 'NUMBER_PEOPLE_IN_LIVING_UNIT',\n",
       "       'PROSPECTSURVIVAL_DECILE', 'LIFE_ATTRITION_MODEL',\n",
       "       'LIFECLASSIFICATION_DECILE', 'PREMIUM_DECILE',\n",
       "       'CENSUS_AVERAGE_HOUSEHOLD_SIZE', 'CENSUS_PCT_25PL_MED_YRS_SCH_CP',\n",
       "       'CENSUS_MEDIAN_HOUSING_VALUE', 'CENSUS_MCF_W_PERSON_UNDER18',\n",
       "       'CENSUS_MCF_WO_PERSON_UNDER18', 'CENSUS_MEDIAN_AGE',\n",
       "       'CENSUS_MEDIAN_DWELLING_AGE', 'CENSUS_PCT_25PLUS_WITH_DEGREE',\n",
       "       'CENSUS_PCT_DU_OWNER_OCCUPIED', 'CENSUS_PCT_DU_RENTER_OCCUPIED',\n",
       "       'CENSUS_PCT_HH_MARRIED_COUPLES', 'CENSUS_PCT_POP_AGE_18PLUS',\n",
       "       'CENSUS_PCT_POP_AGE_65PLUS', 'CENSUS_PCT_POP_AGE_UNDER_18',\n",
       "       'CENSUS_UNITS_IN_STRUT_MOB_HOME', 'CENSUS_INCOME_INDEX'],\n",
       "      dtype='object')"
      ]
     },
     "execution_count": 30,
     "metadata": {},
     "output_type": "execute_result"
    }
   ],
   "source": [
    "df2.columns"
   ]
  },
  {
   "cell_type": "markdown",
   "id": "143c128e",
   "metadata": {},
   "source": [
    "## Number of CHILDREN_COUNT_ON_RECORD"
   ]
  },
  {
   "cell_type": "code",
   "execution_count": 31,
   "id": "52760b4b",
   "metadata": {},
   "outputs": [
    {
     "data": {
      "text/plain": [
       "CHILDREN_COUNT_ON_RECORD\n",
       "0.0    2899896\n",
       "1.0     654937\n",
       "2.0     238098\n",
       "3.0     100976\n",
       "4.0      43296\n",
       "5.0      16443\n",
       "6.0       4403\n",
       "7.0        342\n",
       "Name: count, dtype: int64"
      ]
     },
     "execution_count": 31,
     "metadata": {},
     "output_type": "execute_result"
    }
   ],
   "source": [
    "df2['CHILDREN_COUNT_ON_RECORD'].value_counts()"
   ]
  },
  {
   "cell_type": "markdown",
   "id": "0b1606e6",
   "metadata": {},
   "source": [
    "## Annuity-score \n",
    " Identify individuals that are in the market for annuity or investment products . classified into bins for better tracking"
   ]
  },
  {
   "cell_type": "code",
   "execution_count": 54,
   "id": "8dd1e770",
   "metadata": {},
   "outputs": [
    {
     "data": {
      "text/plain": [
       "Annuity_Group\n",
       "Medium       2553465\n",
       "Low           741594\n",
       "High          654525\n",
       "Very High       8807\n",
       "Name: count, dtype: int64"
      ]
     },
     "execution_count": 54,
     "metadata": {},
     "output_type": "execute_result"
    }
   ],
   "source": [
    "data = df2['ANNUITY_SCORE']\n",
    "# Define bin edges and labels\n",
    "bins= [222, 352, 478, 604, 733]\n",
    "'''\n",
    "low - 222-352\n",
    "medium- 352-478\n",
    "high - 478-604\n",
    "very high - 604-733\n",
    "'''\n",
    "df2['Annuity_Group'] = pd.cut(df2['ANNUITY_SCORE'], bins=bins, \n",
    "labels=['Low', 'Medium', 'High', 'Very High'])\n",
    "df2['Annuity_Group'].value_counts()"
   ]
  },
  {
   "cell_type": "code",
   "execution_count": 55,
   "id": "cd956ee5",
   "metadata": {},
   "outputs": [
    {
     "data": {
      "image/png": "[encoded data removed]",
      "text/plain": [
       "<Figure size 640x480 with 1 Axes>"
      ]
     },
     "metadata": {},
     "output_type": "display_data"
    }
   ],
   "source": [
    "category_counts = df2['Annuity_Group'].value_counts()\n",
    "\n",
    "# Create a pie chart\n",
    "plt.pie(category_counts, labels=category_counts.index, autopct='%1.1f%%', startangle=90)\n",
    "plt.axis('equal')  # Equal aspect ratio ensures that pie is drawn as a circle.\n",
    "\n",
    "# Add a title\n",
    "plt.title('Annuity group distribution')\n",
    "\n",
    "# Display the chart\n",
    "plt.show()"
   ]
  },
  {
   "cell_type": "markdown",
   "id": "2de9f251",
   "metadata": {},
   "source": [
    "## Homeowner probability \n"
   ]
  },
  {
   "cell_type": "code",
   "execution_count": 56,
   "id": "fc16d06e",
   "metadata": {},
   "outputs": [
    {
     "data": {
      "text/plain": [
       "home_ownership\n",
       "Confirmed    3152487\n",
       "Low P         389147\n",
       "High P        129550\n",
       "Medium P      116347\n",
       "Name: count, dtype: int64"
      ]
     },
     "execution_count": 56,
     "metadata": {},
     "output_type": "execute_result"
    }
   ],
   "source": [
    "\n",
    "# Define bin edges and labels\n",
    "bins= [0,50,75,100,102]\n",
    "'''\n",
    "low p - 0-50\n",
    "medium p- 50-75\n",
    "high p- 75-100\n",
    "Confirmed- 100-102\n",
    "'''\n",
    "df2['home_ownership'] = pd.cut(df2['HOMEOWNER_PROBABILITY'], bins=bins, \n",
    "labels=['Low P', 'Medium P', 'High P', 'Confirmed'])\n",
    "df2['home_ownership'].value_counts()"
   ]
  },
  {
   "cell_type": "code",
   "execution_count": 83,
   "id": "e729a0e5",
   "metadata": {},
   "outputs": [
    {
     "data": {
      "text/plain": [
       "HOMEOWNER_PROBABILITY\n",
       "101.0    2994298\n",
       "102.0     158189\n",
       "Name: count, dtype: int64"
      ]
     },
     "execution_count": 83,
     "metadata": {},
     "output_type": "execute_result"
    }
   ],
   "source": [
    "s=df2[df2['home_ownership']=='Confirmed']\n",
    "s['HOMEOWNER_PROBABILITY'].value_counts()"
   ]
  },
  {
   "cell_type": "code",
   "execution_count": 57,
   "id": "ad9559e5",
   "metadata": {},
   "outputs": [
    {
     "data": {
      "text/plain": [
       "Index(['match_key', 'state', 'mail_date', 'payment_dt', 'zip_code', 'hui',\n",
       "       'ui', 'joined', 'age_in_years_drv_numeric', 'length_of_residence_1',\n",
       "       'marketing_attract_index', 'mkt_attract_score', 'MRI_TIER_TRV',\n",
       "       'SCORE_RESP_FINAL_EXPENSE', 'SCORE_RESP_MED_SUP',\n",
       "       'life_attrition_model_decile', 'NUMBER_OF_VEHICLES_REGISTERED',\n",
       "       'MARKET_RISK_INDEX', 'WEALTH_RATING', 'ACTIVITY_TILE', 'ARC_HOMEOWNER',\n",
       "       'COMBINED_PRESENCE_OF_CHILDREN', 'DWELLING_TYPE', 'OCCUPATION_GRPP1V2',\n",
       "       'EST_HH_INCOME_V5', 'MORTGAGE_AMOUNT_IN_THOUSANDS2',\n",
       "       'MORTGAGE_PROTECTION_DECILE', 'V1_RAAMEDINCOMERANGE', 'AGE_16_24_IN_HH',\n",
       "       'APT_FLAG', 'CHILDREN_COUNT_ON_RECORD', 'ANNUITY_SCORE',\n",
       "       'HOMEOWNER_PROBABILITY', 'NUMBER_PEOPLE_IN_LIVING_UNIT',\n",
       "       'PROSPECTSURVIVAL_DECILE', 'LIFE_ATTRITION_MODEL',\n",
       "       'LIFECLASSIFICATION_DECILE', 'PREMIUM_DECILE',\n",
       "       'CENSUS_AVERAGE_HOUSEHOLD_SIZE', 'CENSUS_PCT_25PL_MED_YRS_SCH_CP',\n",
       "       'CENSUS_MEDIAN_HOUSING_VALUE', 'CENSUS_MCF_W_PERSON_UNDER18',\n",
       "       'CENSUS_MCF_WO_PERSON_UNDER18', 'CENSUS_MEDIAN_AGE',\n",
       "       'CENSUS_MEDIAN_DWELLING_AGE', 'CENSUS_PCT_25PLUS_WITH_DEGREE',\n",
       "       'CENSUS_PCT_DU_OWNER_OCCUPIED', 'CENSUS_PCT_DU_RENTER_OCCUPIED',\n",
       "       'CENSUS_PCT_HH_MARRIED_COUPLES', 'CENSUS_PCT_POP_AGE_18PLUS',\n",
       "       'CENSUS_PCT_POP_AGE_65PLUS', 'CENSUS_PCT_POP_AGE_UNDER_18',\n",
       "       'CENSUS_UNITS_IN_STRUT_MOB_HOME', 'CENSUS_INCOME_INDEX',\n",
       "       'Annuity_Group', 'home_ownership'],\n",
       "      dtype='object')"
      ]
     },
     "execution_count": 57,
     "metadata": {},
     "output_type": "execute_result"
    }
   ],
   "source": [
    "df2.columns"
   ]
  },
  {
   "cell_type": "code",
   "execution_count": 58,
   "id": "a9b3f1be",
   "metadata": {},
   "outputs": [
    {
     "data": {
      "text/plain": [
       "(3152487, 56)"
      ]
     },
     "execution_count": 58,
     "metadata": {},
     "output_type": "execute_result"
    }
   ],
   "source": [
    "w=df2[df2['home_ownership']=='Confirmed']\n",
    "w.shape"
   ]
  },
  {
   "cell_type": "code",
   "execution_count": 59,
   "id": "28649996",
   "metadata": {},
   "outputs": [
    {
     "data": {
      "text/plain": [
       "Annuity_Group\n",
       "Medium       2061603\n",
       "Low           673974\n",
       "High          411384\n",
       "Very High       5526\n",
       "Name: count, dtype: int64"
      ]
     },
     "execution_count": 59,
     "metadata": {},
     "output_type": "execute_result"
    }
   ],
   "source": [
    "w['Annuity_Group'].value_counts()"
   ]
  },
  {
   "cell_type": "code",
   "execution_count": 60,
   "id": "38f71e10",
   "metadata": {},
   "outputs": [
    {
     "data": {
      "text/html": [
       "<div>\n",
       "<style scoped>\n",
       "    .dataframe tbody tr th:only-of-type {\n",
       "        vertical-align: middle;\n",
       "    }\n",
       "\n",
       "    .dataframe tbody tr th {\n",
       "        vertical-align: top;\n",
       "    }\n",
       "\n",
       "    .dataframe thead th {\n",
       "        text-align: right;\n",
       "    }\n",
       "</style>\n",
       "<table border=\"1\" class=\"dataframe\">\n",
       "  <thead>\n",
       "    <tr style=\"text-align: right;\">\n",
       "      <th></th>\n",
       "      <th>match_key</th>\n",
       "      <th>state</th>\n",
       "      <th>mail_date</th>\n",
       "      <th>payment_dt</th>\n",
       "      <th>zip_code</th>\n",
       "      <th>hui</th>\n",
       "      <th>ui</th>\n",
       "      <th>joined</th>\n",
       "      <th>age_in_years_drv_numeric</th>\n",
       "      <th>length_of_residence_1</th>\n",
       "      <th>...</th>\n",
       "      <th>CENSUS_PCT_DU_OWNER_OCCUPIED</th>\n",
       "      <th>CENSUS_PCT_DU_RENTER_OCCUPIED</th>\n",
       "      <th>CENSUS_PCT_HH_MARRIED_COUPLES</th>\n",
       "      <th>CENSUS_PCT_POP_AGE_18PLUS</th>\n",
       "      <th>CENSUS_PCT_POP_AGE_65PLUS</th>\n",
       "      <th>CENSUS_PCT_POP_AGE_UNDER_18</th>\n",
       "      <th>CENSUS_UNITS_IN_STRUT_MOB_HOME</th>\n",
       "      <th>CENSUS_INCOME_INDEX</th>\n",
       "      <th>Annuity_Group</th>\n",
       "      <th>home_ownership</th>\n",
       "    </tr>\n",
       "  </thead>\n",
       "  <tbody>\n",
       "    <tr>\n",
       "      <th>1947</th>\n",
       "      <td>ABBO1721BONNEVILLEDR32826</td>\n",
       "      <td>FL</td>\n",
       "      <td>2022-03-04</td>\n",
       "      <td>NaT</td>\n",
       "      <td>32826.0</td>\n",
       "      <td>NaN</td>\n",
       "      <td>NaN</td>\n",
       "      <td>0.0</td>\n",
       "      <td>23.0</td>\n",
       "      <td>30.0</td>\n",
       "      <td>...</td>\n",
       "      <td>49.6</td>\n",
       "      <td>50.4</td>\n",
       "      <td>32.2</td>\n",
       "      <td>83.2</td>\n",
       "      <td>4.0</td>\n",
       "      <td>16.8</td>\n",
       "      <td>13.4</td>\n",
       "      <td>65.0</td>\n",
       "      <td>Very High</td>\n",
       "      <td>Confirmed</td>\n",
       "    </tr>\n",
       "    <tr>\n",
       "      <th>3331</th>\n",
       "      <td>ABDO3225KEGLERDR32216</td>\n",
       "      <td>FL</td>\n",
       "      <td>2022-02-04</td>\n",
       "      <td>NaT</td>\n",
       "      <td>32216.0</td>\n",
       "      <td>NaN</td>\n",
       "      <td>NaN</td>\n",
       "      <td>0.0</td>\n",
       "      <td>76.0</td>\n",
       "      <td>33.0</td>\n",
       "      <td>...</td>\n",
       "      <td>47.2</td>\n",
       "      <td>52.8</td>\n",
       "      <td>41.6</td>\n",
       "      <td>80.2</td>\n",
       "      <td>15.5</td>\n",
       "      <td>19.8</td>\n",
       "      <td>0.1</td>\n",
       "      <td>98.0</td>\n",
       "      <td>Very High</td>\n",
       "      <td>Confirmed</td>\n",
       "    </tr>\n",
       "    <tr>\n",
       "      <th>3370</th>\n",
       "      <td>ABDO6131TUSCONYCIR32277</td>\n",
       "      <td>FL</td>\n",
       "      <td>2022-02-04</td>\n",
       "      <td>NaT</td>\n",
       "      <td>32277.0</td>\n",
       "      <td>NaN</td>\n",
       "      <td>NaN</td>\n",
       "      <td>0.0</td>\n",
       "      <td>57.0</td>\n",
       "      <td>29.0</td>\n",
       "      <td>...</td>\n",
       "      <td>55.7</td>\n",
       "      <td>44.3</td>\n",
       "      <td>50.6</td>\n",
       "      <td>68.4</td>\n",
       "      <td>13.0</td>\n",
       "      <td>31.6</td>\n",
       "      <td>0.5</td>\n",
       "      <td>111.0</td>\n",
       "      <td>Very High</td>\n",
       "      <td>Confirmed</td>\n",
       "    </tr>\n",
       "    <tr>\n",
       "      <th>4910</th>\n",
       "      <td>ABER3030TIMBERRUNLN32565</td>\n",
       "      <td>FL</td>\n",
       "      <td>2022-03-04</td>\n",
       "      <td>NaT</td>\n",
       "      <td>32565.0</td>\n",
       "      <td>NaN</td>\n",
       "      <td>NaN</td>\n",
       "      <td>0.0</td>\n",
       "      <td>78.0</td>\n",
       "      <td>26.0</td>\n",
       "      <td>...</td>\n",
       "      <td>89.1</td>\n",
       "      <td>10.9</td>\n",
       "      <td>66.5</td>\n",
       "      <td>79.7</td>\n",
       "      <td>22.0</td>\n",
       "      <td>20.3</td>\n",
       "      <td>11.8</td>\n",
       "      <td>97.0</td>\n",
       "      <td>Very High</td>\n",
       "      <td>Confirmed</td>\n",
       "    </tr>\n",
       "    <tr>\n",
       "      <th>5067</th>\n",
       "      <td>ABER912EDESOTOST32501</td>\n",
       "      <td>FL</td>\n",
       "      <td>2022-04-08</td>\n",
       "      <td>NaT</td>\n",
       "      <td>32501.0</td>\n",
       "      <td>NaN</td>\n",
       "      <td>NaN</td>\n",
       "      <td>0.0</td>\n",
       "      <td>58.0</td>\n",
       "      <td>46.0</td>\n",
       "      <td>...</td>\n",
       "      <td>56.5</td>\n",
       "      <td>43.5</td>\n",
       "      <td>28.0</td>\n",
       "      <td>83.4</td>\n",
       "      <td>14.6</td>\n",
       "      <td>16.6</td>\n",
       "      <td>0.2</td>\n",
       "      <td>76.0</td>\n",
       "      <td>Very High</td>\n",
       "      <td>Confirmed</td>\n",
       "    </tr>\n",
       "    <tr>\n",
       "      <th>...</th>\n",
       "      <td>...</td>\n",
       "      <td>...</td>\n",
       "      <td>...</td>\n",
       "      <td>...</td>\n",
       "      <td>...</td>\n",
       "      <td>...</td>\n",
       "      <td>...</td>\n",
       "      <td>...</td>\n",
       "      <td>...</td>\n",
       "      <td>...</td>\n",
       "      <td>...</td>\n",
       "      <td>...</td>\n",
       "      <td>...</td>\n",
       "      <td>...</td>\n",
       "      <td>...</td>\n",
       "      <td>...</td>\n",
       "      <td>...</td>\n",
       "      <td>...</td>\n",
       "      <td>...</td>\n",
       "      <td>...</td>\n",
       "      <td>...</td>\n",
       "    </tr>\n",
       "    <tr>\n",
       "      <th>3953566</th>\n",
       "      <td>STEI13435OKLAHOMAWOODSCT32824</td>\n",
       "      <td>FL</td>\n",
       "      <td>2022-04-08</td>\n",
       "      <td>NaT</td>\n",
       "      <td>32824.0</td>\n",
       "      <td>NaN</td>\n",
       "      <td>NaN</td>\n",
       "      <td>0.0</td>\n",
       "      <td>28.0</td>\n",
       "      <td>30.0</td>\n",
       "      <td>...</td>\n",
       "      <td>63.2</td>\n",
       "      <td>36.8</td>\n",
       "      <td>54.0</td>\n",
       "      <td>72.7</td>\n",
       "      <td>9.3</td>\n",
       "      <td>27.3</td>\n",
       "      <td>0.7</td>\n",
       "      <td>75.0</td>\n",
       "      <td>Very High</td>\n",
       "      <td>Confirmed</td>\n",
       "    </tr>\n",
       "    <tr>\n",
       "      <th>3954241</th>\n",
       "      <td>STEG3535US2349721</td>\n",
       "      <td>MI</td>\n",
       "      <td>2022-02-04</td>\n",
       "      <td>NaT</td>\n",
       "      <td>49721.0</td>\n",
       "      <td>NaN</td>\n",
       "      <td>NaN</td>\n",
       "      <td>0.0</td>\n",
       "      <td>76.0</td>\n",
       "      <td>8.0</td>\n",
       "      <td>...</td>\n",
       "      <td>88.7</td>\n",
       "      <td>11.3</td>\n",
       "      <td>59.1</td>\n",
       "      <td>87.7</td>\n",
       "      <td>25.2</td>\n",
       "      <td>12.3</td>\n",
       "      <td>16.8</td>\n",
       "      <td>71.0</td>\n",
       "      <td>Very High</td>\n",
       "      <td>Confirmed</td>\n",
       "    </tr>\n",
       "    <tr>\n",
       "      <th>3956683</th>\n",
       "      <td>STEE2936W15THST32254</td>\n",
       "      <td>FL</td>\n",
       "      <td>2022-03-04</td>\n",
       "      <td>NaT</td>\n",
       "      <td>32254.0</td>\n",
       "      <td>NaN</td>\n",
       "      <td>NaN</td>\n",
       "      <td>0.0</td>\n",
       "      <td>69.0</td>\n",
       "      <td>29.0</td>\n",
       "      <td>...</td>\n",
       "      <td>58.1</td>\n",
       "      <td>41.9</td>\n",
       "      <td>27.4</td>\n",
       "      <td>73.4</td>\n",
       "      <td>11.6</td>\n",
       "      <td>26.6</td>\n",
       "      <td>0.4</td>\n",
       "      <td>49.0</td>\n",
       "      <td>Very High</td>\n",
       "      <td>Confirmed</td>\n",
       "    </tr>\n",
       "    <tr>\n",
       "      <th>3958076</th>\n",
       "      <td>STEC1010CENTERWOODDR48730</td>\n",
       "      <td>MI</td>\n",
       "      <td>2022-06-03</td>\n",
       "      <td>NaT</td>\n",
       "      <td>48730.0</td>\n",
       "      <td>NaN</td>\n",
       "      <td>NaN</td>\n",
       "      <td>0.0</td>\n",
       "      <td>78.0</td>\n",
       "      <td>4.0</td>\n",
       "      <td>...</td>\n",
       "      <td>68.7</td>\n",
       "      <td>31.3</td>\n",
       "      <td>45.5</td>\n",
       "      <td>86.0</td>\n",
       "      <td>32.3</td>\n",
       "      <td>14.0</td>\n",
       "      <td>0.4</td>\n",
       "      <td>100.0</td>\n",
       "      <td>Very High</td>\n",
       "      <td>Confirmed</td>\n",
       "    </tr>\n",
       "    <tr>\n",
       "      <th>3958259</th>\n",
       "      <td>STEB15067SW103RDTER33196</td>\n",
       "      <td>FL</td>\n",
       "      <td>2022-04-08</td>\n",
       "      <td>NaT</td>\n",
       "      <td>33196.0</td>\n",
       "      <td>NaN</td>\n",
       "      <td>NaN</td>\n",
       "      <td>0.0</td>\n",
       "      <td>75.0</td>\n",
       "      <td>3.0</td>\n",
       "      <td>...</td>\n",
       "      <td>47.4</td>\n",
       "      <td>52.6</td>\n",
       "      <td>43.7</td>\n",
       "      <td>80.8</td>\n",
       "      <td>13.6</td>\n",
       "      <td>19.2</td>\n",
       "      <td>0.0</td>\n",
       "      <td>79.0</td>\n",
       "      <td>Very High</td>\n",
       "      <td>Confirmed</td>\n",
       "    </tr>\n",
       "  </tbody>\n",
       "</table>\n",
       "<p>5526 rows × 56 columns</p>\n",
       "</div>"
      ],
      "text/plain": [
       "                              match_key state  mail_date payment_dt zip_code  \\\n",
       "1947     ABBO1721BONNEVILLEDR32826         FL 2022-03-04        NaT  32826.0   \n",
       "3331     ABDO3225KEGLERDR32216             FL 2022-02-04        NaT  32216.0   \n",
       "3370     ABDO6131TUSCONYCIR32277           FL 2022-02-04        NaT  32277.0   \n",
       "4910     ABER3030TIMBERRUNLN32565          FL 2022-03-04        NaT  32565.0   \n",
       "5067     ABER912EDESOTOST32501             FL 2022-04-08        NaT  32501.0   \n",
       "...                                 ...   ...        ...        ...      ...   \n",
       "3953566  STEI13435OKLAHOMAWOODSCT32824     FL 2022-04-08        NaT  32824.0   \n",
       "3954241  STEG3535US2349721                 MI 2022-02-04        NaT  49721.0   \n",
       "3956683  STEE2936W15THST32254              FL 2022-03-04        NaT  32254.0   \n",
       "3958076  STEC1010CENTERWOODDR48730         MI 2022-06-03        NaT  48730.0   \n",
       "3958259  STEB15067SW103RDTER33196          FL 2022-04-08        NaT  33196.0   \n",
       "\n",
       "         hui  ui  joined  age_in_years_drv_numeric  length_of_residence_1  \\\n",
       "1947     NaN NaN     0.0                      23.0                   30.0   \n",
       "3331     NaN NaN     0.0                      76.0                   33.0   \n",
       "3370     NaN NaN     0.0                      57.0                   29.0   \n",
       "4910     NaN NaN     0.0                      78.0                   26.0   \n",
       "5067     NaN NaN     0.0                      58.0                   46.0   \n",
       "...      ...  ..     ...                       ...                    ...   \n",
       "3953566  NaN NaN     0.0                      28.0                   30.0   \n",
       "3954241  NaN NaN     0.0                      76.0                    8.0   \n",
       "3956683  NaN NaN     0.0                      69.0                   29.0   \n",
       "3958076  NaN NaN     0.0                      78.0                    4.0   \n",
       "3958259  NaN NaN     0.0                      75.0                    3.0   \n",
       "\n",
       "         ...  CENSUS_PCT_DU_OWNER_OCCUPIED  CENSUS_PCT_DU_RENTER_OCCUPIED  \\\n",
       "1947     ...                          49.6                           50.4   \n",
       "3331     ...                          47.2                           52.8   \n",
       "3370     ...                          55.7                           44.3   \n",
       "4910     ...                          89.1                           10.9   \n",
       "5067     ...                          56.5                           43.5   \n",
       "...      ...                           ...                            ...   \n",
       "3953566  ...                          63.2                           36.8   \n",
       "3954241  ...                          88.7                           11.3   \n",
       "3956683  ...                          58.1                           41.9   \n",
       "3958076  ...                          68.7                           31.3   \n",
       "3958259  ...                          47.4                           52.6   \n",
       "\n",
       "         CENSUS_PCT_HH_MARRIED_COUPLES  CENSUS_PCT_POP_AGE_18PLUS  \\\n",
       "1947                              32.2                       83.2   \n",
       "3331                              41.6                       80.2   \n",
       "3370                              50.6                       68.4   \n",
       "4910                              66.5                       79.7   \n",
       "5067                              28.0                       83.4   \n",
       "...                                ...                        ...   \n",
       "3953566                           54.0                       72.7   \n",
       "3954241                           59.1                       87.7   \n",
       "3956683                           27.4                       73.4   \n",
       "3958076                           45.5                       86.0   \n",
       "3958259                           43.7                       80.8   \n",
       "\n",
       "         CENSUS_PCT_POP_AGE_65PLUS  CENSUS_PCT_POP_AGE_UNDER_18  \\\n",
       "1947                           4.0                         16.8   \n",
       "3331                          15.5                         19.8   \n",
       "3370                          13.0                         31.6   \n",
       "4910                          22.0                         20.3   \n",
       "5067                          14.6                         16.6   \n",
       "...                            ...                          ...   \n",
       "3953566                        9.3                         27.3   \n",
       "3954241                       25.2                         12.3   \n",
       "3956683                       11.6                         26.6   \n",
       "3958076                       32.3                         14.0   \n",
       "3958259                       13.6                         19.2   \n",
       "\n",
       "         CENSUS_UNITS_IN_STRUT_MOB_HOME  CENSUS_INCOME_INDEX  Annuity_Group  \\\n",
       "1947                               13.4                 65.0      Very High   \n",
       "3331                                0.1                 98.0      Very High   \n",
       "3370                                0.5                111.0      Very High   \n",
       "4910                               11.8                 97.0      Very High   \n",
       "5067                                0.2                 76.0      Very High   \n",
       "...                                 ...                  ...            ...   \n",
       "3953566                             0.7                 75.0      Very High   \n",
       "3954241                            16.8                 71.0      Very High   \n",
       "3956683                             0.4                 49.0      Very High   \n",
       "3958076                             0.4                100.0      Very High   \n",
       "3958259                             0.0                 79.0      Very High   \n",
       "\n",
       "         home_ownership  \n",
       "1947          Confirmed  \n",
       "3331          Confirmed  \n",
       "3370          Confirmed  \n",
       "4910          Confirmed  \n",
       "5067          Confirmed  \n",
       "...                 ...  \n",
       "3953566       Confirmed  \n",
       "3954241       Confirmed  \n",
       "3956683       Confirmed  \n",
       "3958076       Confirmed  \n",
       "3958259       Confirmed  \n",
       "\n",
       "[5526 rows x 56 columns]"
      ]
     },
     "execution_count": 60,
     "metadata": {},
     "output_type": "execute_result"
    }
   ],
   "source": [
    "df2[(df2['home_ownership']=='Confirmed')&(df2['Annuity_Group']=='Very High')]"
   ]
  },
  {
   "cell_type": "markdown",
   "id": "08cae7ef",
   "metadata": {},
   "source": [
    "## PROSPECTSURVIVAL_DECILE \n",
    "prospect will remain a customer for at least a year (1-10 , 1 being best prospect) "
   ]
  },
  {
   "cell_type": "code",
   "execution_count": 91,
   "id": "2909d25b",
   "metadata": {},
   "outputs": [
    {
     "data": {
      "text/html": [
       "<div>\n",
       "<style scoped>\n",
       "    .dataframe tbody tr th:only-of-type {\n",
       "        vertical-align: middle;\n",
       "    }\n",
       "\n",
       "    .dataframe tbody tr th {\n",
       "        vertical-align: top;\n",
       "    }\n",
       "\n",
       "    .dataframe thead th {\n",
       "        text-align: right;\n",
       "    }\n",
       "</style>\n",
       "<table border=\"1\" class=\"dataframe\">\n",
       "  <thead>\n",
       "    <tr style=\"text-align: right;\">\n",
       "      <th></th>\n",
       "      <th>count</th>\n",
       "      <th>cumulative_sum</th>\n",
       "    </tr>\n",
       "    <tr>\n",
       "      <th>PROSPECTSURVIVAL_DECILE</th>\n",
       "      <th></th>\n",
       "      <th></th>\n",
       "    </tr>\n",
       "  </thead>\n",
       "  <tbody>\n",
       "    <tr>\n",
       "      <th>1.0</th>\n",
       "      <td>589874</td>\n",
       "      <td>589874</td>\n",
       "    </tr>\n",
       "    <tr>\n",
       "      <th>2.0</th>\n",
       "      <td>464384</td>\n",
       "      <td>1054258</td>\n",
       "    </tr>\n",
       "    <tr>\n",
       "      <th>3.0</th>\n",
       "      <td>427120</td>\n",
       "      <td>1481378</td>\n",
       "    </tr>\n",
       "    <tr>\n",
       "      <th>4.0</th>\n",
       "      <td>394890</td>\n",
       "      <td>1876268</td>\n",
       "    </tr>\n",
       "    <tr>\n",
       "      <th>5.0</th>\n",
       "      <td>387519</td>\n",
       "      <td>2263787</td>\n",
       "    </tr>\n",
       "    <tr>\n",
       "      <th>6.0</th>\n",
       "      <td>367333</td>\n",
       "      <td>2631120</td>\n",
       "    </tr>\n",
       "    <tr>\n",
       "      <th>9.0</th>\n",
       "      <td>360070</td>\n",
       "      <td>2991190</td>\n",
       "    </tr>\n",
       "    <tr>\n",
       "      <th>7.0</th>\n",
       "      <td>359982</td>\n",
       "      <td>3351172</td>\n",
       "    </tr>\n",
       "    <tr>\n",
       "      <th>10.0</th>\n",
       "      <td>336254</td>\n",
       "      <td>3687426</td>\n",
       "    </tr>\n",
       "    <tr>\n",
       "      <th>8.0</th>\n",
       "      <td>270965</td>\n",
       "      <td>3958391</td>\n",
       "    </tr>\n",
       "  </tbody>\n",
       "</table>\n",
       "</div>"
      ],
      "text/plain": [
       "                          count  cumulative_sum\n",
       "PROSPECTSURVIVAL_DECILE                        \n",
       "1.0                      589874          589874\n",
       "2.0                      464384         1054258\n",
       "3.0                      427120         1481378\n",
       "4.0                      394890         1876268\n",
       "5.0                      387519         2263787\n",
       "6.0                      367333         2631120\n",
       "9.0                      360070         2991190\n",
       "7.0                      359982         3351172\n",
       "10.0                     336254         3687426\n",
       "8.0                      270965         3958391"
      ]
     },
     "execution_count": 91,
     "metadata": {},
     "output_type": "execute_result"
    }
   ],
   "source": [
    "f=pd.DataFrame(df2['PROSPECTSURVIVAL_DECILE'].value_counts())\n",
    "f['cumulative_sum'] = f['count'].cumsum()\n",
    "f"
   ]
  },
  {
   "cell_type": "code",
   "execution_count": 103,
   "id": "3b0a6e01",
   "metadata": {},
   "outputs": [
    {
     "data": {
      "text/plain": [
       "prospect_level\n",
       "medium_prospects_4-6    1509724\n",
       "best_prospects_1-3      1481378\n",
       "low_prospects_7-10       967289\n",
       "Name: count, dtype: int64"
      ]
     },
     "execution_count": 103,
     "metadata": {},
     "output_type": "execute_result"
    }
   ],
   "source": [
    "bins=[0,3,7,10]\n",
    "df2['prospect_level']=pd.cut(df2['PROSPECTSURVIVAL_DECILE'],bins=bins,\n",
    "labels=['best_prospects_1-3','medium_prospects_4-6','low_prospects_7-10'])\n",
    "df2['prospect_level'].value_counts()"
   ]
  },
  {
   "cell_type": "markdown",
   "id": "dbaa3a80",
   "metadata": {},
   "source": [
    "# life-attrition-model doubt \n",
    "In the response sheet from AAA , value of life_attrition_model are mentioned in deciles. However, we have data in range of 200-997 \n",
    "# life classification-decile\n",
    "What does value of lifeclassication_decile mean ? (Can we consider values 8-10 as persons with high risk so we can eliminate them in marketing campaigns) "
   ]
  },
  {
   "cell_type": "code",
   "execution_count": 104,
   "id": "c3eeb2bb",
   "metadata": {},
   "outputs": [
    {
     "data": {
      "text/plain": [
       "Index(['match_key', 'state', 'mail_date', 'payment_dt', 'zip_code', 'hui',\n",
       "       'ui', 'joined', 'age_in_years_drv_numeric', 'length_of_residence_1',\n",
       "       'marketing_attract_index', 'mkt_attract_score', 'MRI_TIER_TRV',\n",
       "       'SCORE_RESP_FINAL_EXPENSE', 'SCORE_RESP_MED_SUP',\n",
       "       'life_attrition_model_decile', 'NUMBER_OF_VEHICLES_REGISTERED',\n",
       "       'MARKET_RISK_INDEX', 'WEALTH_RATING', 'ACTIVITY_TILE', 'ARC_HOMEOWNER',\n",
       "       'COMBINED_PRESENCE_OF_CHILDREN', 'DWELLING_TYPE', 'OCCUPATION_GRPP1V2',\n",
       "       'EST_HH_INCOME_V5', 'MORTGAGE_AMOUNT_IN_THOUSANDS2',\n",
       "       'MORTGAGE_PROTECTION_DECILE', 'V1_RAAMEDINCOMERANGE', 'AGE_16_24_IN_HH',\n",
       "       'APT_FLAG', 'CHILDREN_COUNT_ON_RECORD', 'ANNUITY_SCORE',\n",
       "       'HOMEOWNER_PROBABILITY', 'NUMBER_PEOPLE_IN_LIVING_UNIT',\n",
       "       'PROSPECTSURVIVAL_DECILE', 'LIFE_ATTRITION_MODEL',\n",
       "       'LIFECLASSIFICATION_DECILE', 'PREMIUM_DECILE',\n",
       "       'CENSUS_AVERAGE_HOUSEHOLD_SIZE', 'CENSUS_PCT_25PL_MED_YRS_SCH_CP',\n",
       "       'CENSUS_MEDIAN_HOUSING_VALUE', 'CENSUS_MCF_W_PERSON_UNDER18',\n",
       "       'CENSUS_MCF_WO_PERSON_UNDER18', 'CENSUS_MEDIAN_AGE',\n",
       "       'CENSUS_MEDIAN_DWELLING_AGE', 'CENSUS_PCT_25PLUS_WITH_DEGREE',\n",
       "       'CENSUS_PCT_DU_OWNER_OCCUPIED', 'CENSUS_PCT_DU_RENTER_OCCUPIED',\n",
       "       'CENSUS_PCT_HH_MARRIED_COUPLES', 'CENSUS_PCT_POP_AGE_18PLUS',\n",
       "       'CENSUS_PCT_POP_AGE_65PLUS', 'CENSUS_PCT_POP_AGE_UNDER_18',\n",
       "       'CENSUS_UNITS_IN_STRUT_MOB_HOME', 'CENSUS_INCOME_INDEX',\n",
       "       'Annuity_Group', 'home_ownership', 'prospect_level'],\n",
       "      dtype='object')"
      ]
     },
     "execution_count": 104,
     "metadata": {},
     "output_type": "execute_result"
    }
   ],
   "source": [
    "df2.columns"
   ]
  },
  {
   "cell_type": "code",
   "execution_count": 105,
   "id": "0752c39d",
   "metadata": {},
   "outputs": [
    {
     "data": {
      "text/plain": [
       "joined\n",
       "0.0    3809784\n",
       "1.0     148607\n",
       "Name: count, dtype: int64"
      ]
     },
     "execution_count": 105,
     "metadata": {},
     "output_type": "execute_result"
    }
   ],
   "source": [
    "df2['joined'].value_counts()"
   ]
  },
  {
   "cell_type": "code",
   "execution_count": null,
   "id": "a9c71861",
   "metadata": {},
   "outputs": [],
   "source": []
  }
 ],
 "metadata": {
  "kernelspec": {
   "display_name": "Python 3 (ipykernel)",
   "language": "python",
   "name": "python3"
  },
  "language_info": {
   "codemirror_mode": {
    "name": "ipython",
    "version": 3
   },
   "file_extension": ".py",
   "mimetype": "text/x-python",
   "name": "python",
   "nbconvert_exporter": "python",
   "pygments_lexer": "ipython3",
   "version": "3.11.5"
  }
 },
 "nbformat": 4,
 "nbformat_minor": 5
}
